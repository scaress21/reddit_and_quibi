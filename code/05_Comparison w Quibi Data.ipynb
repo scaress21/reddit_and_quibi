{
 "cells": [
  {
   "cell_type": "markdown",
   "metadata": {},
   "source": [
    "# Reddit & Quibi: Web API and NLP\n",
    "## Part 5: Comparison w Quibi Data"
   ]
  },
  {
   "cell_type": "code",
   "execution_count": 1,
   "metadata": {},
   "outputs": [],
   "source": [
    "import pandas as pd\n",
    "import numpy as np\n",
    "import pickle\n",
    "import matplotlib.pyplot as plt\n",
    "from nltk.sentiment.vader import SentimentIntensityAnalyzer\n",
    "import nltk\n",
    "\n",
    "from sklearn.model_selection import cross_val_score, train_test_split, GridSearchCV\n",
    "from sklearn.feature_extraction.text import CountVectorizer, TfidfVectorizer\n",
    "from sklearn.pipeline import Pipeline\n",
    "import regex as re"
   ]
  },
  {
   "cell_type": "markdown",
   "metadata": {},
   "source": [
    "For the last part of this project, it's time to make predictions on the Quibi show descriptions. By classifying them to fit these subreddits, the goal is to see which shows would appeal to consumers of these three mediums. I'll start by bringing in my best model and Count Vectorizer."
   ]
  },
  {
   "cell_type": "code",
   "execution_count": 2,
   "metadata": {},
   "outputs": [],
   "source": [
    "lr = pickle.load(open('../model/log_reg_1.pkl', 'rb'))\n",
    "cvec = pickle.load(open('../model/cvec_1.pkl', 'rb'))"
   ]
  },
  {
   "cell_type": "markdown",
   "metadata": {},
   "source": [
    "Next, I'll load in the Quibi data, do some light cleaning with RegEx, and combine the title, genre, and description into one column."
   ]
  },
  {
   "cell_type": "code",
   "execution_count": 3,
   "metadata": {},
   "outputs": [],
   "source": [
    "quibi = pd.read_csv('../datasets/quibi_raw.csv')"
   ]
  },
  {
   "cell_type": "code",
   "execution_count": 4,
   "metadata": {},
   "outputs": [],
   "source": [
    "quibi['text'] = quibi['title'] + ' ' + quibi['genre'] + ' ' + quibi['description']"
   ]
  },
  {
   "cell_type": "code",
   "execution_count": 5,
   "metadata": {},
   "outputs": [],
   "source": [
    "quibi['text'] = quibi['text'].apply(lambda x: re.sub('\\\\n', ' ', x))"
   ]
  },
  {
   "cell_type": "code",
   "execution_count": 6,
   "metadata": {},
   "outputs": [],
   "source": [
    "quibi['text'] = quibi['text'].apply(lambda x: re.sub('\\\\r', ' ', x))"
   ]
  },
  {
   "cell_type": "markdown",
   "metadata": {},
   "source": [
    "This combined column will be what the model makes predictions on:"
   ]
  },
  {
   "cell_type": "code",
   "execution_count": 7,
   "metadata": {},
   "outputs": [],
   "source": [
    "X = quibi['text']"
   ]
  },
  {
   "cell_type": "markdown",
   "metadata": {},
   "source": [
    "Before making predictions, I'll need to transform the data with the same Count Vectorizer fit to the Reddit data."
   ]
  },
  {
   "cell_type": "code",
   "execution_count": 8,
   "metadata": {},
   "outputs": [],
   "source": [
    "X_c = cvec.transform(X)"
   ]
  },
  {
   "cell_type": "markdown",
   "metadata": {},
   "source": [
    "Now, I'll generate the predictions. I also want to draw out the probabilities from the predictions to take a closer look at how the model is working."
   ]
  },
  {
   "cell_type": "code",
   "execution_count": 9,
   "metadata": {},
   "outputs": [],
   "source": [
    "pred = lr.predict(X_c)"
   ]
  },
  {
   "cell_type": "code",
   "execution_count": 10,
   "metadata": {},
   "outputs": [],
   "source": [
    "prob = lr.predict_proba(X_c)"
   ]
  },
  {
   "cell_type": "markdown",
   "metadata": {},
   "source": [
    "Saving these probabilities in a new DataFrame, then adding it to the Quibi DataFrame:"
   ]
  },
  {
   "cell_type": "code",
   "execution_count": 11,
   "metadata": {},
   "outputs": [],
   "source": [
    "prob_df = pd.DataFrame(prob)"
   ]
  },
  {
   "cell_type": "code",
   "execution_count": 12,
   "metadata": {},
   "outputs": [],
   "source": [
    "prob_df.rename(columns={0 : 'Podcast', 1 : 'TV', 2: 'Video'}, inplace=True)"
   ]
  },
  {
   "cell_type": "code",
   "execution_count": 13,
   "metadata": {},
   "outputs": [],
   "source": [
    "quibi['prediction'] = pred"
   ]
  },
  {
   "cell_type": "code",
   "execution_count": 14,
   "metadata": {},
   "outputs": [],
   "source": [
    "quibi = pd.concat([quibi, prob_df], axis=1)"
   ]
  },
  {
   "cell_type": "markdown",
   "metadata": {},
   "source": [
    "Below is the overall breakdown for how many shows were classified for each platform."
   ]
  },
  {
   "cell_type": "code",
   "execution_count": 15,
   "metadata": {},
   "outputs": [
    {
     "data": {
      "text/plain": [
       "1    22\n",
       "0    19\n",
       "2    12\n",
       "Name: prediction, dtype: int64"
      ]
     },
     "execution_count": 15,
     "metadata": {},
     "output_type": "execute_result"
    }
   ],
   "source": [
    "quibi['prediction'].value_counts()"
   ]
  },
  {
   "cell_type": "markdown",
   "metadata": {},
   "source": [
    "Here are the top shows for Podcasts:"
   ]
  },
  {
   "cell_type": "code",
   "execution_count": 16,
   "metadata": {},
   "outputs": [
    {
     "data": {
      "text/html": [
       "<div>\n",
       "<style scoped>\n",
       "    .dataframe tbody tr th:only-of-type {\n",
       "        vertical-align: middle;\n",
       "    }\n",
       "\n",
       "    .dataframe tbody tr th {\n",
       "        vertical-align: top;\n",
       "    }\n",
       "\n",
       "    .dataframe thead th {\n",
       "        text-align: right;\n",
       "    }\n",
       "</style>\n",
       "<table border=\"1\" class=\"dataframe\">\n",
       "  <thead>\n",
       "    <tr style=\"text-align: right;\">\n",
       "      <th></th>\n",
       "      <th>title</th>\n",
       "      <th>genre</th>\n",
       "      <th>description</th>\n",
       "      <th>cast_crew</th>\n",
       "      <th>rating</th>\n",
       "      <th>season</th>\n",
       "      <th>release</th>\n",
       "      <th>url</th>\n",
       "      <th>text</th>\n",
       "      <th>prediction</th>\n",
       "      <th>Podcast</th>\n",
       "      <th>TV</th>\n",
       "      <th>Video</th>\n",
       "    </tr>\n",
       "  </thead>\n",
       "  <tbody>\n",
       "    <tr>\n",
       "      <th>40</th>\n",
       "      <td>Sports AM by TSN</td>\n",
       "      <td>Sports, News</td>\n",
       "      <td>Hosted by Lindsay Hamilton and Kayla Grey, Spo...</td>\n",
       "      <td>['Lindsay Hamilton', 'Kayla Grey']</td>\n",
       "      <td>NaN</td>\n",
       "      <td>1 season</td>\n",
       "      <td>Released</td>\n",
       "      <td>https://quibi.com/shows/sports-am-by-tsn-610</td>\n",
       "      <td>Sports AM by TSN Sports, News Hosted by Lindsa...</td>\n",
       "      <td>0</td>\n",
       "      <td>0.998286</td>\n",
       "      <td>0.001599</td>\n",
       "      <td>0.000115</td>\n",
       "    </tr>\n",
       "    <tr>\n",
       "      <th>39</th>\n",
       "      <td>Speedrun by Polygon</td>\n",
       "      <td>Gaming, News</td>\n",
       "      <td>Speedrun is your daily dose of the latest gami...</td>\n",
       "      <td>['Jimmy Mondal']</td>\n",
       "      <td>NaN</td>\n",
       "      <td>1 season</td>\n",
       "      <td>Spring 2020</td>\n",
       "      <td>https://quibi.com/shows/speedrun-by-polygon-574</td>\n",
       "      <td>Speedrun by Polygon Gaming, News Speedrun is y...</td>\n",
       "      <td>0</td>\n",
       "      <td>0.996313</td>\n",
       "      <td>0.003504</td>\n",
       "      <td>0.000184</td>\n",
       "    </tr>\n",
       "    <tr>\n",
       "      <th>30</th>\n",
       "      <td>POP5</td>\n",
       "      <td>News, Music</td>\n",
       "      <td>POP5, by iHeartRadio, is a daily, fast-paced, ...</td>\n",
       "      <td>['Tim Kash']</td>\n",
       "      <td>NaN</td>\n",
       "      <td>1 season</td>\n",
       "      <td>Spring 2020</td>\n",
       "      <td>https://quibi.com/shows/pop-5-614</td>\n",
       "      <td>POP5 News, Music POP5, by iHeartRadio, is a da...</td>\n",
       "      <td>0</td>\n",
       "      <td>0.990383</td>\n",
       "      <td>0.009608</td>\n",
       "      <td>0.000009</td>\n",
       "    </tr>\n",
       "    <tr>\n",
       "      <th>13</th>\n",
       "      <td>For the Cultura by Telemundo</td>\n",
       "      <td>LatinX Entertainment News</td>\n",
       "      <td>For the Cultura by Telemundo looks beyond the ...</td>\n",
       "      <td>['Alfredo Lomeli']</td>\n",
       "      <td>NaN</td>\n",
       "      <td>1 season</td>\n",
       "      <td>Spring 2020</td>\n",
       "      <td>https://quibi.com/shows/for-the-cultura-by-tel...</td>\n",
       "      <td>For the Cultura by Telemundo LatinX Entertainm...</td>\n",
       "      <td>0</td>\n",
       "      <td>0.970835</td>\n",
       "      <td>0.028285</td>\n",
       "      <td>0.000880</td>\n",
       "    </tr>\n",
       "    <tr>\n",
       "      <th>32</th>\n",
       "      <td>Pulso News by Telemundo</td>\n",
       "      <td>News</td>\n",
       "      <td>Pulso News by Telemundo is a daily newscast ca...</td>\n",
       "      <td>['Andrea Martinez']</td>\n",
       "      <td>NaN</td>\n",
       "      <td>1 season</td>\n",
       "      <td>Spring 2020</td>\n",
       "      <td>https://quibi.com/shows/pulso-news-by-telemund...</td>\n",
       "      <td>Pulso News by Telemundo News Pulso News by Tel...</td>\n",
       "      <td>0</td>\n",
       "      <td>0.966317</td>\n",
       "      <td>0.031315</td>\n",
       "      <td>0.002368</td>\n",
       "    </tr>\n",
       "  </tbody>\n",
       "</table>\n",
       "</div>"
      ],
      "text/plain": [
       "                           title                      genre  \\\n",
       "40              Sports AM by TSN               Sports, News   \n",
       "39           Speedrun by Polygon               Gaming, News   \n",
       "30                          POP5                News, Music   \n",
       "13  For the Cultura by Telemundo  LatinX Entertainment News   \n",
       "32       Pulso News by Telemundo                       News   \n",
       "\n",
       "                                          description  \\\n",
       "40  Hosted by Lindsay Hamilton and Kayla Grey, Spo...   \n",
       "39  Speedrun is your daily dose of the latest gami...   \n",
       "30  POP5, by iHeartRadio, is a daily, fast-paced, ...   \n",
       "13  For the Cultura by Telemundo looks beyond the ...   \n",
       "32  Pulso News by Telemundo is a daily newscast ca...   \n",
       "\n",
       "                             cast_crew rating    season      release  \\\n",
       "40  ['Lindsay Hamilton', 'Kayla Grey']    NaN  1 season     Released   \n",
       "39                    ['Jimmy Mondal']    NaN  1 season  Spring 2020   \n",
       "30                        ['Tim Kash']    NaN  1 season  Spring 2020   \n",
       "13                  ['Alfredo Lomeli']    NaN  1 season  Spring 2020   \n",
       "32                 ['Andrea Martinez']    NaN  1 season  Spring 2020   \n",
       "\n",
       "                                                  url  \\\n",
       "40       https://quibi.com/shows/sports-am-by-tsn-610   \n",
       "39    https://quibi.com/shows/speedrun-by-polygon-574   \n",
       "30                  https://quibi.com/shows/pop-5-614   \n",
       "13  https://quibi.com/shows/for-the-cultura-by-tel...   \n",
       "32  https://quibi.com/shows/pulso-news-by-telemund...   \n",
       "\n",
       "                                                 text  prediction   Podcast  \\\n",
       "40  Sports AM by TSN Sports, News Hosted by Lindsa...           0  0.998286   \n",
       "39  Speedrun by Polygon Gaming, News Speedrun is y...           0  0.996313   \n",
       "30  POP5 News, Music POP5, by iHeartRadio, is a da...           0  0.990383   \n",
       "13  For the Cultura by Telemundo LatinX Entertainm...           0  0.970835   \n",
       "32  Pulso News by Telemundo News Pulso News by Tel...           0  0.966317   \n",
       "\n",
       "          TV     Video  \n",
       "40  0.001599  0.000115  \n",
       "39  0.003504  0.000184  \n",
       "30  0.009608  0.000009  \n",
       "13  0.028285  0.000880  \n",
       "32  0.031315  0.002368  "
      ]
     },
     "execution_count": 16,
     "metadata": {},
     "output_type": "execute_result"
    }
   ],
   "source": [
    "quibi.sort_values('Podcast', ascending=False).head()"
   ]
  },
  {
   "cell_type": "markdown",
   "metadata": {},
   "source": [
    "Here are the top shows for TV:"
   ]
  },
  {
   "cell_type": "code",
   "execution_count": 17,
   "metadata": {},
   "outputs": [
    {
     "data": {
      "text/html": [
       "<div>\n",
       "<style scoped>\n",
       "    .dataframe tbody tr th:only-of-type {\n",
       "        vertical-align: middle;\n",
       "    }\n",
       "\n",
       "    .dataframe tbody tr th {\n",
       "        vertical-align: top;\n",
       "    }\n",
       "\n",
       "    .dataframe thead th {\n",
       "        text-align: right;\n",
       "    }\n",
       "</style>\n",
       "<table border=\"1\" class=\"dataframe\">\n",
       "  <thead>\n",
       "    <tr style=\"text-align: right;\">\n",
       "      <th></th>\n",
       "      <th>title</th>\n",
       "      <th>genre</th>\n",
       "      <th>description</th>\n",
       "      <th>cast_crew</th>\n",
       "      <th>rating</th>\n",
       "      <th>season</th>\n",
       "      <th>release</th>\n",
       "      <th>url</th>\n",
       "      <th>text</th>\n",
       "      <th>prediction</th>\n",
       "      <th>Podcast</th>\n",
       "      <th>TV</th>\n",
       "      <th>Video</th>\n",
       "    </tr>\n",
       "  </thead>\n",
       "  <tbody>\n",
       "    <tr>\n",
       "      <th>23</th>\n",
       "      <td>Most Dangerous Game</td>\n",
       "      <td>Action-Packed, Thriller</td>\n",
       "      <td>A man (Liam Hemsworth) desperate and in debt. ...</td>\n",
       "      <td>['Liam Hemsworth', 'Christoph Waltz', 'Sarah G...</td>\n",
       "      <td>TV-MA</td>\n",
       "      <td>1 season</td>\n",
       "      <td>Released</td>\n",
       "      <td>https://quibi.com/shows/most-dangerous-game-566</td>\n",
       "      <td>Most Dangerous Game Action-Packed, Thriller A ...</td>\n",
       "      <td>1</td>\n",
       "      <td>0.000256</td>\n",
       "      <td>0.999023</td>\n",
       "      <td>0.000722</td>\n",
       "    </tr>\n",
       "    <tr>\n",
       "      <th>31</th>\n",
       "      <td>Prodigy</td>\n",
       "      <td>Sports, Documentary</td>\n",
       "      <td>Each episode of this docu-series profiles a yo...</td>\n",
       "      <td>['Megan Rapinoe', 'Jalen Green', 'Chantel Nava...</td>\n",
       "      <td>NaN</td>\n",
       "      <td>1 season</td>\n",
       "      <td>Released</td>\n",
       "      <td>https://quibi.com/shows/prodigy-520</td>\n",
       "      <td>Prodigy Sports, Documentary Each episode of th...</td>\n",
       "      <td>1</td>\n",
       "      <td>0.000615</td>\n",
       "      <td>0.998882</td>\n",
       "      <td>0.000503</td>\n",
       "    </tr>\n",
       "    <tr>\n",
       "      <th>7</th>\n",
       "      <td>Dishmantled</td>\n",
       "      <td>Cooking Competition</td>\n",
       "      <td>Take two blindfolded chef contestants. Blast a...</td>\n",
       "      <td>['Tituss Burgess', 'Antoni Porowski', 'Rachel ...</td>\n",
       "      <td>NaN</td>\n",
       "      <td>1 season</td>\n",
       "      <td>Released</td>\n",
       "      <td>https://quibi.com/shows/dishmantled-504</td>\n",
       "      <td>Dishmantled Cooking Competition Take two blind...</td>\n",
       "      <td>1</td>\n",
       "      <td>0.000108</td>\n",
       "      <td>0.997127</td>\n",
       "      <td>0.002765</td>\n",
       "    </tr>\n",
       "    <tr>\n",
       "      <th>33</th>\n",
       "      <td>Punk'd</td>\n",
       "      <td>Prank, Celebrity</td>\n",
       "      <td>Punk'd is back! And no one is safe! The iconic...</td>\n",
       "      <td>['Chance the Rapper', 'Megan Thee Stallion', '...</td>\n",
       "      <td>NaN</td>\n",
       "      <td>1 season</td>\n",
       "      <td>Released</td>\n",
       "      <td>https://quibi.com/shows/punkd-529</td>\n",
       "      <td>Punk'd Prank, Celebrity Punk'd is back! And no...</td>\n",
       "      <td>1</td>\n",
       "      <td>0.000025</td>\n",
       "      <td>0.996316</td>\n",
       "      <td>0.003659</td>\n",
       "    </tr>\n",
       "    <tr>\n",
       "      <th>26</th>\n",
       "      <td>NewsDay by CTV</td>\n",
       "      <td>News</td>\n",
       "      <td>Canada’s #1 news network presents two shows de...</td>\n",
       "      <td>[]</td>\n",
       "      <td>NaN</td>\n",
       "      <td>1 season</td>\n",
       "      <td>Released</td>\n",
       "      <td>https://quibi.com/shows/newsday-by-ctv-578</td>\n",
       "      <td>NewsDay by CTV News Canada’s #1 news network p...</td>\n",
       "      <td>1</td>\n",
       "      <td>0.001766</td>\n",
       "      <td>0.995202</td>\n",
       "      <td>0.003032</td>\n",
       "    </tr>\n",
       "  </tbody>\n",
       "</table>\n",
       "</div>"
      ],
      "text/plain": [
       "                  title                    genre  \\\n",
       "23  Most Dangerous Game  Action-Packed, Thriller   \n",
       "31              Prodigy      Sports, Documentary   \n",
       "7           Dishmantled      Cooking Competition   \n",
       "33               Punk'd         Prank, Celebrity   \n",
       "26       NewsDay by CTV                     News   \n",
       "\n",
       "                                          description  \\\n",
       "23  A man (Liam Hemsworth) desperate and in debt. ...   \n",
       "31  Each episode of this docu-series profiles a yo...   \n",
       "7   Take two blindfolded chef contestants. Blast a...   \n",
       "33  Punk'd is back! And no one is safe! The iconic...   \n",
       "26  Canada’s #1 news network presents two shows de...   \n",
       "\n",
       "                                            cast_crew rating    season  \\\n",
       "23  ['Liam Hemsworth', 'Christoph Waltz', 'Sarah G...  TV-MA  1 season   \n",
       "31  ['Megan Rapinoe', 'Jalen Green', 'Chantel Nava...    NaN  1 season   \n",
       "7   ['Tituss Burgess', 'Antoni Porowski', 'Rachel ...    NaN  1 season   \n",
       "33  ['Chance the Rapper', 'Megan Thee Stallion', '...    NaN  1 season   \n",
       "26                                                 []    NaN  1 season   \n",
       "\n",
       "     release                                              url  \\\n",
       "23  Released  https://quibi.com/shows/most-dangerous-game-566   \n",
       "31  Released              https://quibi.com/shows/prodigy-520   \n",
       "7   Released          https://quibi.com/shows/dishmantled-504   \n",
       "33  Released                https://quibi.com/shows/punkd-529   \n",
       "26  Released       https://quibi.com/shows/newsday-by-ctv-578   \n",
       "\n",
       "                                                 text  prediction   Podcast  \\\n",
       "23  Most Dangerous Game Action-Packed, Thriller A ...           1  0.000256   \n",
       "31  Prodigy Sports, Documentary Each episode of th...           1  0.000615   \n",
       "7   Dishmantled Cooking Competition Take two blind...           1  0.000108   \n",
       "33  Punk'd Prank, Celebrity Punk'd is back! And no...           1  0.000025   \n",
       "26  NewsDay by CTV News Canada’s #1 news network p...           1  0.001766   \n",
       "\n",
       "          TV     Video  \n",
       "23  0.999023  0.000722  \n",
       "31  0.998882  0.000503  \n",
       "7   0.997127  0.002765  \n",
       "33  0.996316  0.003659  \n",
       "26  0.995202  0.003032  "
      ]
     },
     "execution_count": 17,
     "metadata": {},
     "output_type": "execute_result"
    }
   ],
   "source": [
    "quibi.sort_values('TV', ascending=False).head(5)"
   ]
  },
  {
   "cell_type": "markdown",
   "metadata": {},
   "source": [
    "Here are the top shows for Video:"
   ]
  },
  {
   "cell_type": "code",
   "execution_count": 18,
   "metadata": {},
   "outputs": [
    {
     "data": {
      "text/html": [
       "<div>\n",
       "<style scoped>\n",
       "    .dataframe tbody tr th:only-of-type {\n",
       "        vertical-align: middle;\n",
       "    }\n",
       "\n",
       "    .dataframe tbody tr th {\n",
       "        vertical-align: top;\n",
       "    }\n",
       "\n",
       "    .dataframe thead th {\n",
       "        text-align: right;\n",
       "    }\n",
       "</style>\n",
       "<table border=\"1\" class=\"dataframe\">\n",
       "  <thead>\n",
       "    <tr style=\"text-align: right;\">\n",
       "      <th></th>\n",
       "      <th>title</th>\n",
       "      <th>genre</th>\n",
       "      <th>description</th>\n",
       "      <th>cast_crew</th>\n",
       "      <th>rating</th>\n",
       "      <th>season</th>\n",
       "      <th>release</th>\n",
       "      <th>url</th>\n",
       "      <th>text</th>\n",
       "      <th>prediction</th>\n",
       "      <th>Podcast</th>\n",
       "      <th>TV</th>\n",
       "      <th>Video</th>\n",
       "    </tr>\n",
       "  </thead>\n",
       "  <tbody>\n",
       "    <tr>\n",
       "      <th>48</th>\n",
       "      <td>The Sauce</td>\n",
       "      <td>Competition, Dance</td>\n",
       "      <td>Who’s the best dance crew in the country? Vira...</td>\n",
       "      <td>['Ayleo \"Ayo\" Bowles', 'Mateo \"Teo\" Bowles', '...</td>\n",
       "      <td>TV-MA</td>\n",
       "      <td>1 season</td>\n",
       "      <td>Released</td>\n",
       "      <td>https://quibi.com/shows/the-sauce-555</td>\n",
       "      <td>The Sauce Competition, Dance Who’s the best da...</td>\n",
       "      <td>2</td>\n",
       "      <td>0.000001</td>\n",
       "      <td>0.000150</td>\n",
       "      <td>0.999849</td>\n",
       "    </tr>\n",
       "    <tr>\n",
       "      <th>50</th>\n",
       "      <td>Weather Today by The Weather Channel</td>\n",
       "      <td>Weather, News</td>\n",
       "      <td>Weather Today brings you a daily dose of weath...</td>\n",
       "      <td>[]</td>\n",
       "      <td>NaN</td>\n",
       "      <td>1 season</td>\n",
       "      <td>Spring 2020</td>\n",
       "      <td>https://quibi.com/shows/weather-today-by-the-w...</td>\n",
       "      <td>Weather Today by The Weather Channel Weather, ...</td>\n",
       "      <td>2</td>\n",
       "      <td>0.001574</td>\n",
       "      <td>0.009740</td>\n",
       "      <td>0.988686</td>\n",
       "    </tr>\n",
       "    <tr>\n",
       "      <th>1</th>\n",
       "      <td>Agua Donkeys</td>\n",
       "      <td>Deadpan, Buddy, Comedy</td>\n",
       "      <td>What's standing between MP, Jer, and the one t...</td>\n",
       "      <td>['MP Cunningham', 'Jer Jackson', 'Baby Darring...</td>\n",
       "      <td>TV-MA</td>\n",
       "      <td>1 season</td>\n",
       "      <td>Released</td>\n",
       "      <td>https://quibi.com/shows/agua-donkeys-479</td>\n",
       "      <td>Agua Donkeys Deadpan, Buddy, Comedy What's sta...</td>\n",
       "      <td>2</td>\n",
       "      <td>0.003085</td>\n",
       "      <td>0.034327</td>\n",
       "      <td>0.962588</td>\n",
       "    </tr>\n",
       "    <tr>\n",
       "      <th>11</th>\n",
       "      <td>Fight Like a Girl</td>\n",
       "      <td>Inspirational, Reality</td>\n",
       "      <td>Ten women. Paired with WWE Superstars. Togethe...</td>\n",
       "      <td>['Stephanie McMahon', 'Alexa Bliss', 'Sasha Ba...</td>\n",
       "      <td>NaN</td>\n",
       "      <td>1 season</td>\n",
       "      <td>Released</td>\n",
       "      <td>https://quibi.com/shows/fight-like-a-girl-589</td>\n",
       "      <td>Fight Like a Girl Inspirational, Reality Ten w...</td>\n",
       "      <td>2</td>\n",
       "      <td>0.048479</td>\n",
       "      <td>0.070773</td>\n",
       "      <td>0.880749</td>\n",
       "    </tr>\n",
       "    <tr>\n",
       "      <th>41</th>\n",
       "      <td>Survive</td>\n",
       "      <td>Tense, Drama</td>\n",
       "      <td>Jane wants to end it all. Then a plane crash a...</td>\n",
       "      <td>['Sophie Turner', 'Corey Hawkins']</td>\n",
       "      <td>TV-MA</td>\n",
       "      <td>1 season</td>\n",
       "      <td>Released</td>\n",
       "      <td>https://quibi.com/shows/survive-526</td>\n",
       "      <td>Survive Tense, Drama Jane wants to end it all....</td>\n",
       "      <td>2</td>\n",
       "      <td>0.000436</td>\n",
       "      <td>0.194829</td>\n",
       "      <td>0.804736</td>\n",
       "    </tr>\n",
       "  </tbody>\n",
       "</table>\n",
       "</div>"
      ],
      "text/plain": [
       "                                   title                   genre  \\\n",
       "48                             The Sauce      Competition, Dance   \n",
       "50  Weather Today by The Weather Channel           Weather, News   \n",
       "1                           Agua Donkeys  Deadpan, Buddy, Comedy   \n",
       "11                     Fight Like a Girl  Inspirational, Reality   \n",
       "41                               Survive            Tense, Drama   \n",
       "\n",
       "                                          description  \\\n",
       "48  Who’s the best dance crew in the country? Vira...   \n",
       "50  Weather Today brings you a daily dose of weath...   \n",
       "1   What's standing between MP, Jer, and the one t...   \n",
       "11  Ten women. Paired with WWE Superstars. Togethe...   \n",
       "41  Jane wants to end it all. Then a plane crash a...   \n",
       "\n",
       "                                            cast_crew rating    season  \\\n",
       "48  ['Ayleo \"Ayo\" Bowles', 'Mateo \"Teo\" Bowles', '...  TV-MA  1 season   \n",
       "50                                                 []    NaN  1 season   \n",
       "1   ['MP Cunningham', 'Jer Jackson', 'Baby Darring...  TV-MA  1 season   \n",
       "11  ['Stephanie McMahon', 'Alexa Bliss', 'Sasha Ba...    NaN  1 season   \n",
       "41                 ['Sophie Turner', 'Corey Hawkins']  TV-MA  1 season   \n",
       "\n",
       "        release                                                url  \\\n",
       "48     Released              https://quibi.com/shows/the-sauce-555   \n",
       "50  Spring 2020  https://quibi.com/shows/weather-today-by-the-w...   \n",
       "1      Released           https://quibi.com/shows/agua-donkeys-479   \n",
       "11     Released      https://quibi.com/shows/fight-like-a-girl-589   \n",
       "41     Released                https://quibi.com/shows/survive-526   \n",
       "\n",
       "                                                 text  prediction   Podcast  \\\n",
       "48  The Sauce Competition, Dance Who’s the best da...           2  0.000001   \n",
       "50  Weather Today by The Weather Channel Weather, ...           2  0.001574   \n",
       "1   Agua Donkeys Deadpan, Buddy, Comedy What's sta...           2  0.003085   \n",
       "11  Fight Like a Girl Inspirational, Reality Ten w...           2  0.048479   \n",
       "41  Survive Tense, Drama Jane wants to end it all....           2  0.000436   \n",
       "\n",
       "          TV     Video  \n",
       "48  0.000150  0.999849  \n",
       "50  0.009740  0.988686  \n",
       "1   0.034327  0.962588  \n",
       "11  0.070773  0.880749  \n",
       "41  0.194829  0.804736  "
      ]
     },
     "execution_count": 18,
     "metadata": {},
     "output_type": "execute_result"
    }
   ],
   "source": [
    "quibi.sort_values('Video', ascending=False).head()"
   ]
  },
  {
   "cell_type": "markdown",
   "metadata": {},
   "source": [
    "For demonstrative purposes, I want to be able to show what words in the text were the strongest indicator of a class. To do this, I'm going to create a DataFrame of the terms and coefficients:"
   ]
  },
  {
   "cell_type": "code",
   "execution_count": 19,
   "metadata": {},
   "outputs": [],
   "source": [
    "coef_df = pd.DataFrame(lr.coef_).T"
   ]
  },
  {
   "cell_type": "code",
   "execution_count": 20,
   "metadata": {},
   "outputs": [],
   "source": [
    "features_cvec = cvec.get_feature_names()\n",
    "coef_df['term'] = features_cvec"
   ]
  },
  {
   "cell_type": "code",
   "execution_count": 21,
   "metadata": {},
   "outputs": [
    {
     "data": {
      "text/plain": [
       "(60000, 4)"
      ]
     },
     "execution_count": 21,
     "metadata": {},
     "output_type": "execute_result"
    }
   ],
   "source": [
    "coef_df.shape"
   ]
  },
  {
   "cell_type": "code",
   "execution_count": 22,
   "metadata": {},
   "outputs": [],
   "source": [
    "def keywords(media, row):\n",
    "    search_list = set(coef_df.sort_values(media, ascending=False)['term'][:6000])\n",
    "    example = quibi.loc[row, 'text']\n",
    "    example = example.split(' ')\n",
    "    keywords = []\n",
    "    for i in example:\n",
    "        if i in search_list:\n",
    "            keywords.append(i)\n",
    "    return keywords"
   ]
  },
  {
   "cell_type": "markdown",
   "metadata": {},
   "source": [
    "The words returned in the keyword function are terms with the highest coeefficients (top 1000) for their media. I'm also including the full text for context."
   ]
  },
  {
   "cell_type": "code",
   "execution_count": 23,
   "metadata": {},
   "outputs": [
    {
     "data": {
      "text/plain": [
       "['daily', 'gaming', 'entertainment', 'culture', 'expert', 'best', 'gaming']"
      ]
     },
     "execution_count": 23,
     "metadata": {},
     "output_type": "execute_result"
    }
   ],
   "source": [
    "#Podcast: Speedrun by Polygun\n",
    "keywords(0, 39)"
   ]
  },
  {
   "cell_type": "code",
   "execution_count": 24,
   "metadata": {},
   "outputs": [
    {
     "data": {
      "text/plain": [
       "'Speedrun by Polygon Gaming, News Speedrun is your daily dose of the latest gaming and entertainment culture news. Packed with expert analysis from the Polygon team, exclusives, recommendations, and more, host Jimmy Mondal celebrates the best of the gaming community.'"
      ]
     },
     "execution_count": 24,
     "metadata": {},
     "output_type": "execute_result"
    }
   ],
   "source": [
    "quibi.loc[39, 'text']"
   ]
  },
  {
   "cell_type": "code",
   "execution_count": 25,
   "metadata": {},
   "outputs": [
    {
     "data": {
      "text/plain": [
       "['thriller', 'hunter', 'turns']"
      ]
     },
     "execution_count": 25,
     "metadata": {},
     "output_type": "execute_result"
    }
   ],
   "source": [
    "#TV: Most Dangerous Game\n",
    "keywords(1, 23)"
   ]
  },
  {
   "cell_type": "code",
   "execution_count": 26,
   "metadata": {},
   "outputs": [
    {
     "data": {
      "text/plain": [
       "'Most Dangerous Game Action-Packed, Thriller A man (Liam Hemsworth) desperate and in debt. In a dystopian thriller where the hunter turns out to be the hunted. Game on.     New episodes every weekday.'"
      ]
     },
     "execution_count": 26,
     "metadata": {},
     "output_type": "execute_result"
    }
   ],
   "source": [
    "quibi.loc[23, 'text']"
   ]
  },
  {
   "cell_type": "code",
   "execution_count": 27,
   "metadata": {},
   "outputs": [
    {
     "data": {
      "text/plain": [
       "['dance', 'dance', 'travel', 'teams']"
      ]
     },
     "execution_count": 27,
     "metadata": {},
     "output_type": "execute_result"
    }
   ],
   "source": [
    "#Video: The Sauce Competition\n",
    "keywords(2, 48)"
   ]
  },
  {
   "cell_type": "code",
   "execution_count": 28,
   "metadata": {},
   "outputs": [
    {
     "data": {
      "text/plain": [
       "'The Sauce Competition, Dance Who’s the best dance crew in the country? Viral dance sensations Ayo & Teo travel across America as teams battle head-to-head for a chance to take home $25,000.    All episodes streaming now.'"
      ]
     },
     "execution_count": 28,
     "metadata": {},
     "output_type": "execute_result"
    }
   ],
   "source": [
    "quibi.loc[48, 'text']"
   ]
  },
  {
   "cell_type": "markdown",
   "metadata": {},
   "source": [
    "Finally, to help understand how the model is working, I'm going to create plots for the top 10 words of each subreddits with that word's coefficient for that media."
   ]
  },
  {
   "cell_type": "code",
   "execution_count": 29,
   "metadata": {},
   "outputs": [
    {
     "data": {
      "text/html": [
       "<div>\n",
       "<style scoped>\n",
       "    .dataframe tbody tr th:only-of-type {\n",
       "        vertical-align: middle;\n",
       "    }\n",
       "\n",
       "    .dataframe tbody tr th {\n",
       "        vertical-align: top;\n",
       "    }\n",
       "\n",
       "    .dataframe thead th {\n",
       "        text-align: right;\n",
       "    }\n",
       "</style>\n",
       "<table border=\"1\" class=\"dataframe\">\n",
       "  <thead>\n",
       "    <tr style=\"text-align: right;\">\n",
       "      <th></th>\n",
       "      <th>term</th>\n",
       "      <th>0</th>\n",
       "    </tr>\n",
       "  </thead>\n",
       "  <tbody>\n",
       "    <tr>\n",
       "      <th>30184</th>\n",
       "      <td>listen</td>\n",
       "      <td>2.650807</td>\n",
       "    </tr>\n",
       "    <tr>\n",
       "      <th>12415</th>\n",
       "      <td>daily 2019</td>\n",
       "      <td>2.418407</td>\n",
       "    </tr>\n",
       "    <tr>\n",
       "      <th>42188</th>\n",
       "      <td>recommendations</td>\n",
       "      <td>2.101106</td>\n",
       "    </tr>\n",
       "    <tr>\n",
       "      <th>42086</th>\n",
       "      <td>recommend</td>\n",
       "      <td>1.950586</td>\n",
       "    </tr>\n",
       "    <tr>\n",
       "      <th>49919</th>\n",
       "      <td>suggestions</td>\n",
       "      <td>1.935066</td>\n",
       "    </tr>\n",
       "    <tr>\n",
       "      <th>46933</th>\n",
       "      <td>similar</td>\n",
       "      <td>1.914889</td>\n",
       "    </tr>\n",
       "    <tr>\n",
       "      <th>39565</th>\n",
       "      <td>preferably</td>\n",
       "      <td>1.864037</td>\n",
       "    </tr>\n",
       "    <tr>\n",
       "      <th>40175</th>\n",
       "      <td>promote</td>\n",
       "      <td>1.840060</td>\n",
       "    </tr>\n",
       "    <tr>\n",
       "      <th>34163</th>\n",
       "      <td>mt</td>\n",
       "      <td>1.825441</td>\n",
       "    </tr>\n",
       "    <tr>\n",
       "      <th>30462</th>\n",
       "      <td>literature</td>\n",
       "      <td>1.817715</td>\n",
       "    </tr>\n",
       "  </tbody>\n",
       "</table>\n",
       "</div>"
      ],
      "text/plain": [
       "                  term         0\n",
       "30184           listen  2.650807\n",
       "12415       daily 2019  2.418407\n",
       "42188  recommendations  2.101106\n",
       "42086        recommend  1.950586\n",
       "49919      suggestions  1.935066\n",
       "46933          similar  1.914889\n",
       "39565       preferably  1.864037\n",
       "40175          promote  1.840060\n",
       "34163               mt  1.825441\n",
       "30462       literature  1.817715"
      ]
     },
     "execution_count": 29,
     "metadata": {},
     "output_type": "execute_result"
    }
   ],
   "source": [
    "coef_df.sort_values(0, ascending=False)[['term', 0]][:10]"
   ]
  },
  {
   "cell_type": "code",
   "execution_count": 30,
   "metadata": {},
   "outputs": [
    {
     "data": {
      "image/png": "[encoded data removed]",
      "text/plain": [
       "<Figure size 1224x720 with 1 Axes>"
      ]
     },
     "metadata": {
      "needs_background": "light"
     },
     "output_type": "display_data"
    }
   ],
   "source": [
    "plt.figure(figsize = (17, 10))\n",
    "pod_x = list(coef_df.sort_values(0, ascending=False)[['term', 0]][:10]['term'])\n",
    "pod_y = list(coef_df.sort_values(0, ascending=False)[['term', 0]][:10][0])\n",
    "plt.barh(pod_x, pod_y, color = 'lightskyblue')\n",
    "#Help inverting the axis from https://github.com/plotly/plotly.github.io/issues/110\n",
    "plt.gca().invert_yaxis()\n",
    "plt.title('Top Keywords for Podcasts', size = 30)\n",
    "plt.xlabel('Coefficient', size = 16)\n",
    "plt.yticks(size=16)\n",
    "\n",
    "plt.savefig('../plots/top_podcasts.png', dpi=235)"
   ]
  },
  {
   "cell_type": "code",
   "execution_count": 31,
   "metadata": {},
   "outputs": [
    {
     "data": {
      "text/html": [
       "<div>\n",
       "<style scoped>\n",
       "    .dataframe tbody tr th:only-of-type {\n",
       "        vertical-align: middle;\n",
       "    }\n",
       "\n",
       "    .dataframe tbody tr th {\n",
       "        vertical-align: top;\n",
       "    }\n",
       "\n",
       "    .dataframe thead th {\n",
       "        text-align: right;\n",
       "    }\n",
       "</style>\n",
       "<table border=\"1\" class=\"dataframe\">\n",
       "  <thead>\n",
       "    <tr style=\"text-align: right;\">\n",
       "      <th></th>\n",
       "      <th>term</th>\n",
       "      <th>1</th>\n",
       "    </tr>\n",
       "  </thead>\n",
       "  <tbody>\n",
       "    <tr>\n",
       "      <th>13387</th>\n",
       "      <td>despicable</td>\n",
       "      <td>2.369771</td>\n",
       "    </tr>\n",
       "    <tr>\n",
       "      <th>5523</th>\n",
       "      <td>best friend</td>\n",
       "      <td>2.306846</td>\n",
       "    </tr>\n",
       "    <tr>\n",
       "      <th>13000</th>\n",
       "      <td>deceived</td>\n",
       "      <td>2.255883</td>\n",
       "    </tr>\n",
       "    <tr>\n",
       "      <th>2581</th>\n",
       "      <td>adolescence</td>\n",
       "      <td>2.101693</td>\n",
       "    </tr>\n",
       "    <tr>\n",
       "      <th>23901</th>\n",
       "      <td>homestay</td>\n",
       "      <td>2.061170</td>\n",
       "    </tr>\n",
       "    <tr>\n",
       "      <th>33076</th>\n",
       "      <td>midnight delivery</td>\n",
       "      <td>1.927370</td>\n",
       "    </tr>\n",
       "    <tr>\n",
       "      <th>48303</th>\n",
       "      <td>spoilers</td>\n",
       "      <td>1.910832</td>\n",
       "    </tr>\n",
       "    <tr>\n",
       "      <th>38524</th>\n",
       "      <td>plot</td>\n",
       "      <td>1.890761</td>\n",
       "    </tr>\n",
       "    <tr>\n",
       "      <th>7192</th>\n",
       "      <td>brooklyn</td>\n",
       "      <td>1.861668</td>\n",
       "    </tr>\n",
       "    <tr>\n",
       "      <th>50323</th>\n",
       "      <td>surrender</td>\n",
       "      <td>1.836296</td>\n",
       "    </tr>\n",
       "    <tr>\n",
       "      <th>53752</th>\n",
       "      <td>trek</td>\n",
       "      <td>1.791964</td>\n",
       "    </tr>\n",
       "    <tr>\n",
       "      <th>46779</th>\n",
       "      <td>shrek musical</td>\n",
       "      <td>1.779238</td>\n",
       "    </tr>\n",
       "    <tr>\n",
       "      <th>45162</th>\n",
       "      <td>seasons</td>\n",
       "      <td>1.764427</td>\n",
       "    </tr>\n",
       "    <tr>\n",
       "      <th>21707</th>\n",
       "      <td>gray place</td>\n",
       "      <td>1.727121</td>\n",
       "    </tr>\n",
       "    <tr>\n",
       "      <th>56359</th>\n",
       "      <td>viewing</td>\n",
       "      <td>1.703018</td>\n",
       "    </tr>\n",
       "    <tr>\n",
       "      <th>46405</th>\n",
       "      <td>showrunner</td>\n",
       "      <td>1.697744</td>\n",
       "    </tr>\n",
       "    <tr>\n",
       "      <th>7645</th>\n",
       "      <td>cable</td>\n",
       "      <td>1.676496</td>\n",
       "    </tr>\n",
       "    <tr>\n",
       "      <th>3293</th>\n",
       "      <td>amazing stories</td>\n",
       "      <td>1.645360</td>\n",
       "    </tr>\n",
       "    <tr>\n",
       "      <th>30628</th>\n",
       "      <td>locke</td>\n",
       "      <td>1.645338</td>\n",
       "    </tr>\n",
       "    <tr>\n",
       "      <th>33453</th>\n",
       "      <td>miss dal</td>\n",
       "      <td>1.640634</td>\n",
       "    </tr>\n",
       "  </tbody>\n",
       "</table>\n",
       "</div>"
      ],
      "text/plain": [
       "                    term         1\n",
       "13387         despicable  2.369771\n",
       "5523         best friend  2.306846\n",
       "13000           deceived  2.255883\n",
       "2581         adolescence  2.101693\n",
       "23901           homestay  2.061170\n",
       "33076  midnight delivery  1.927370\n",
       "48303           spoilers  1.910832\n",
       "38524               plot  1.890761\n",
       "7192            brooklyn  1.861668\n",
       "50323          surrender  1.836296\n",
       "53752               trek  1.791964\n",
       "46779      shrek musical  1.779238\n",
       "45162            seasons  1.764427\n",
       "21707         gray place  1.727121\n",
       "56359            viewing  1.703018\n",
       "46405         showrunner  1.697744\n",
       "7645               cable  1.676496\n",
       "3293     amazing stories  1.645360\n",
       "30628              locke  1.645338\n",
       "33453           miss dal  1.640634"
      ]
     },
     "execution_count": 31,
     "metadata": {},
     "output_type": "execute_result"
    }
   ],
   "source": [
    "coef_df.sort_values(1, ascending=False)[['term', 1]][:20]"
   ]
  },
  {
   "cell_type": "code",
   "execution_count": 32,
   "metadata": {},
   "outputs": [
    {
     "data": {
      "image/png": "[encoded data removed]",
      "text/plain": [
       "<Figure size 1224x720 with 1 Axes>"
      ]
     },
     "metadata": {
      "needs_background": "light"
     },
     "output_type": "display_data"
    }
   ],
   "source": [
    "plt.figure(figsize = (17, 10))\n",
    "tv_x = list(coef_df.sort_values(1, ascending=False)[['term', 1]][:10]['term'])\n",
    "tv_y = list(coef_df.sort_values(1, ascending=False)[['term', 1]][:10][1])\n",
    "plt.barh(tv_x, tv_y, color = 'slateblue')\n",
    "\n",
    "plt.gca().invert_yaxis()\n",
    "plt.title('Top Keywords for TV', size = 30)\n",
    "plt.xlabel('Coefficient', size = 16)\n",
    "plt.yticks(size=16)\n",
    "\n",
    "plt.savefig('../plots/top_tv.png', dpi=235)"
   ]
  },
  {
   "cell_type": "code",
   "execution_count": 33,
   "metadata": {},
   "outputs": [
    {
     "data": {
      "text/html": [
       "<div>\n",
       "<style scoped>\n",
       "    .dataframe tbody tr th:only-of-type {\n",
       "        vertical-align: middle;\n",
       "    }\n",
       "\n",
       "    .dataframe tbody tr th {\n",
       "        vertical-align: top;\n",
       "    }\n",
       "\n",
       "    .dataframe thead th {\n",
       "        text-align: right;\n",
       "    }\n",
       "</style>\n",
       "<table border=\"1\" class=\"dataframe\">\n",
       "  <thead>\n",
       "    <tr style=\"text-align: right;\">\n",
       "      <th></th>\n",
       "      <th>term</th>\n",
       "      <th>2</th>\n",
       "    </tr>\n",
       "  </thead>\n",
       "  <tbody>\n",
       "    <tr>\n",
       "      <th>30625</th>\n",
       "      <td>lockdown</td>\n",
       "      <td>1.656984</td>\n",
       "    </tr>\n",
       "    <tr>\n",
       "      <th>19516</th>\n",
       "      <td>fresh daily</td>\n",
       "      <td>1.638992</td>\n",
       "    </tr>\n",
       "    <tr>\n",
       "      <th>9763</th>\n",
       "      <td>cod</td>\n",
       "      <td>1.603050</td>\n",
       "    </tr>\n",
       "    <tr>\n",
       "      <th>56653</th>\n",
       "      <td>walkthrough</td>\n",
       "      <td>1.551676</td>\n",
       "    </tr>\n",
       "    <tr>\n",
       "      <th>120</th>\n",
       "      <td>04</td>\n",
       "      <td>1.425858</td>\n",
       "    </tr>\n",
       "    <tr>\n",
       "      <th>43691</th>\n",
       "      <td>roblox</td>\n",
       "      <td>1.411465</td>\n",
       "    </tr>\n",
       "    <tr>\n",
       "      <th>35374</th>\n",
       "      <td>oc</td>\n",
       "      <td>1.404181</td>\n",
       "    </tr>\n",
       "    <tr>\n",
       "      <th>18953</th>\n",
       "      <td>fish</td>\n",
       "      <td>1.383764</td>\n",
       "    </tr>\n",
       "    <tr>\n",
       "      <th>42920</th>\n",
       "      <td>remedies</td>\n",
       "      <td>1.363637</td>\n",
       "    </tr>\n",
       "    <tr>\n",
       "      <th>22561</th>\n",
       "      <td>haircut</td>\n",
       "      <td>1.358239</td>\n",
       "    </tr>\n",
       "  </tbody>\n",
       "</table>\n",
       "</div>"
      ],
      "text/plain": [
       "              term         2\n",
       "30625     lockdown  1.656984\n",
       "19516  fresh daily  1.638992\n",
       "9763           cod  1.603050\n",
       "56653  walkthrough  1.551676\n",
       "120             04  1.425858\n",
       "43691       roblox  1.411465\n",
       "35374           oc  1.404181\n",
       "18953         fish  1.383764\n",
       "42920     remedies  1.363637\n",
       "22561      haircut  1.358239"
      ]
     },
     "execution_count": 33,
     "metadata": {},
     "output_type": "execute_result"
    }
   ],
   "source": [
    "coef_df.sort_values(2, ascending=False)[['term', 2]][:10]"
   ]
  },
  {
   "cell_type": "code",
   "execution_count": 34,
   "metadata": {
    "scrolled": true
   },
   "outputs": [
    {
     "data": {
      "image/png": "[encoded data removed]",
      "text/plain": [
       "<Figure size 1224x720 with 1 Axes>"
      ]
     },
     "metadata": {
      "needs_background": "light"
     },
     "output_type": "display_data"
    }
   ],
   "source": [
    "plt.figure(figsize = (17, 10))\n",
    "vid_x = list(coef_df.sort_values(2, ascending=False)[['term', 2]][:10]['term'])\n",
    "vid_y = list(coef_df.sort_values(2, ascending=False)[['term', 2]][:10][2])\n",
    "plt.barh(vid_x, vid_y, color = 'mediumvioletred')\n",
    "\n",
    "plt.gca().invert_yaxis()\n",
    "plt.title('Top Keywords for Videos', size = 30)\n",
    "plt.xlabel('Coefficient', size = 16)\n",
    "plt.yticks(size=16)\n",
    "\n",
    "plt.savefig('../plots/top_videos.png', dpi=235)"
   ]
  }
 ],
 "metadata": {
  "kernelspec": {
   "display_name": "Python 3",
   "language": "python",
   "name": "python3"
  },
  "language_info": {
   "codemirror_mode": {
    "name": "ipython",
    "version": 3
   },
   "file_extension": ".py",
   "mimetype": "text/x-python",
   "name": "python",
   "nbconvert_exporter": "python",
   "pygments_lexer": "ipython3",
   "version": "3.7.6"
  }
 },
 "nbformat": 4,
 "nbformat_minor": 4
}
