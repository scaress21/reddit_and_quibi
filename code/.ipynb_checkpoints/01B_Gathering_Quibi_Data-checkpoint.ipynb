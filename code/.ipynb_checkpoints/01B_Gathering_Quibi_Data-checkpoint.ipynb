{
 "cells": [
  {
   "cell_type": "markdown",
   "metadata": {},
   "source": [
    "# Reddit & Quibi: Web API and NLP\n",
    "## Part 1-B: Scraping Data from Quibi"
   ]
  },
  {
   "cell_type": "markdown",
   "metadata": {},
   "source": [
    "In the previous notebook, I gathered data from Reddit. Now I'm going to scrape the Quibi website so I can compare it to the Reddit info. The Quibi website doesn't have any limits/restrictions on scraping and I was able to access all the pages via their sitemap."
   ]
  },
  {
   "cell_type": "code",
   "execution_count": 1,
   "metadata": {},
   "outputs": [],
   "source": [
    "import requests\n",
    "from bs4 import BeautifulSoup\n",
    "import pandas as pd\n",
    "import numpy as np\n",
    "import time\n"
   ]
  },
  {
   "cell_type": "markdown",
   "metadata": {},
   "source": [
    "First, I'm scraping the sitemap since it holds all the URL's I'll want to access in the future."
   ]
  },
  {
   "cell_type": "code",
   "execution_count": 2,
   "metadata": {},
   "outputs": [],
   "source": [
    "url = 'https://quibi.com/sitemap.xml'\n",
    "\n",
    "res = requests.get(url)\n"
   ]
  },
  {
   "cell_type": "code",
   "execution_count": 3,
   "metadata": {},
   "outputs": [
    {
     "data": {
      "text/plain": [
       "200"
      ]
     },
     "execution_count": 3,
     "metadata": {},
     "output_type": "execute_result"
    }
   ],
   "source": [
    "res.status_code"
   ]
  },
  {
   "cell_type": "code",
   "execution_count": 4,
   "metadata": {},
   "outputs": [],
   "source": [
    "soup = BeautifulSoup(res.content, 'lxml')"
   ]
  },
  {
   "cell_type": "markdown",
   "metadata": {},
   "source": [
    "All of the links are in 'loc' tags, the list 'pages' will hold each link."
   ]
  },
  {
   "cell_type": "code",
   "execution_count": 5,
   "metadata": {},
   "outputs": [],
   "source": [
    "pages = soup.find_all('loc')"
   ]
  },
  {
   "cell_type": "markdown",
   "metadata": {},
   "source": [
    "However, not all of these pages are for shows. Only those with 'shows/' in the URL are for their current programming. The loop below tries to split on the words 'shows' in the URL. If it works, it will save the rest of the link to 'shows'. If it doesn't, this link is not added to the list of shows."
   ]
  },
  {
   "cell_type": "code",
   "execution_count": 6,
   "metadata": {},
   "outputs": [],
   "source": [
    "shows = []\n",
    "for page in pages:\n",
    "    try:\n",
    "        show_url = page.text.split('shows/')[1]\n",
    "        shows.append(show_url)\n",
    "    except:\n",
    "        pass"
   ]
  },
  {
   "cell_type": "markdown",
   "metadata": {},
   "source": [
    "There are 53 shows on the Quibi website."
   ]
  },
  {
   "cell_type": "code",
   "execution_count": 7,
   "metadata": {},
   "outputs": [
    {
     "data": {
      "text/plain": [
       "53"
      ]
     },
     "execution_count": 7,
     "metadata": {},
     "output_type": "execute_result"
    }
   ],
   "source": [
    "len(shows)"
   ]
  },
  {
   "cell_type": "markdown",
   "metadata": {},
   "source": [
    "Now that we have the list of show URL's, the loop below goes to each URL and grabs the pertinent information. Some are consistent across every page (such as title), but others only appear where necessary (like rating). There's a second for loop that checks some of the retrieved content to see if it matches the expected strucutre before assigning it to be stored. The final product is a list of individual show dictionaries that is then combined into one DataFrame."
   ]
  },
  {
   "cell_type": "code",
   "execution_count": 8,
   "metadata": {},
   "outputs": [],
   "source": [
    "#Empty list to store the show info\n",
    "all_show_list = []\n",
    "\n",
    "show_base = 'https://quibi.com/shows/'\n",
    "\n",
    "#For each show in the URL list\n",
    "for show in shows:\n",
    "    #Get the info\n",
    "    req = requests.get(show_base + show)\n",
    "    \n",
    "    #If the request worked\n",
    "    if req.status_code < 400:\n",
    "        #Turn it into a BS object\n",
    "        bs = BeautifulSoup(req.content, 'lxml')\n",
    "        \n",
    "        #The title of the page is an image, but the alt text is the actual title\n",
    "        title = bs.find('img').attrs['alt']\n",
    "        \n",
    "        #The heading contains multiple pieces of information to split up, but not every page has the same info\n",
    "        heading = bs.find('h3').text.split(' • ')\n",
    "        \n",
    "        #Setting default values if one isn't included on the page\n",
    "        rating = None\n",
    "        season = None\n",
    "        genre = None\n",
    "        rel = 'Released'\n",
    "        \n",
    "        #For loop checks if the info is there, then changes from the default\n",
    "        for h in heading:\n",
    "            if 'TV-' in h:\n",
    "                rating = h\n",
    "            elif 'season' in h:\n",
    "                season = h\n",
    "            elif '2020' in h:\n",
    "                rel = h\n",
    "            else:\n",
    "                genre = h\n",
    "        \n",
    "        #Grabbing the description\n",
    "        desc = bs.find('p', {'class' : 'show-long-description__1htfq'}).text\n",
    "        \n",
    "        #Grabbing the select cast/crew list\n",
    "        cast_list = [cast.text for cast in bs.find_all('p', {'class' : 'credit-item-name__1eL-i'})]\n",
    "        \n",
    "        show_dict = {\n",
    "            'title': title,\n",
    "            'genre': genre,\n",
    "            'description': desc,\n",
    "            'cast_crew': cast_list,\n",
    "            'rating': rating,\n",
    "            'season': season,\n",
    "            'release': rel,\n",
    "            'url': show_base+show\n",
    "        }\n",
    "        all_show_list.append(show_dict)\n",
    "\n",
    "show_df = pd.DataFrame(all_show_list)     "
   ]
  },
  {
   "cell_type": "code",
   "execution_count": 9,
   "metadata": {},
   "outputs": [
    {
     "data": {
      "text/html": [
       "<div>\n",
       "<style scoped>\n",
       "    .dataframe tbody tr th:only-of-type {\n",
       "        vertical-align: middle;\n",
       "    }\n",
       "\n",
       "    .dataframe tbody tr th {\n",
       "        vertical-align: top;\n",
       "    }\n",
       "\n",
       "    .dataframe thead th {\n",
       "        text-align: right;\n",
       "    }\n",
       "</style>\n",
       "<table border=\"1\" class=\"dataframe\">\n",
       "  <thead>\n",
       "    <tr style=\"text-align: right;\">\n",
       "      <th></th>\n",
       "      <th>title</th>\n",
       "      <th>genre</th>\n",
       "      <th>description</th>\n",
       "      <th>cast_crew</th>\n",
       "      <th>rating</th>\n",
       "      <th>season</th>\n",
       "      <th>release</th>\n",
       "      <th>url</th>\n",
       "    </tr>\n",
       "  </thead>\n",
       "  <tbody>\n",
       "    <tr>\n",
       "      <th>0</th>\n",
       "      <td>50 States Of Fright</td>\n",
       "      <td>Horror Anthology Thriller</td>\n",
       "      <td>A horror anthology featuring the scariest stor...</td>\n",
       "      <td>[Rachel Brosnahan, Travis Fimmel, John Marshal...</td>\n",
       "      <td>TV-MA</td>\n",
       "      <td>1 season</td>\n",
       "      <td>Released</td>\n",
       "      <td>https://quibi.com/shows/50-states-of-fright-417</td>\n",
       "    </tr>\n",
       "    <tr>\n",
       "      <th>1</th>\n",
       "      <td>Agua Donkeys</td>\n",
       "      <td>Deadpan, Buddy, Comedy</td>\n",
       "      <td>What's standing between MP, Jer, and the one t...</td>\n",
       "      <td>[MP Cunningham, Jer Jackson, Baby Darrington, ...</td>\n",
       "      <td>TV-MA</td>\n",
       "      <td>1 season</td>\n",
       "      <td>Released</td>\n",
       "      <td>https://quibi.com/shows/agua-donkeys-479</td>\n",
       "    </tr>\n",
       "    <tr>\n",
       "      <th>2</th>\n",
       "      <td>All The Feels by The Dodo</td>\n",
       "      <td>Reality, Cute Animals</td>\n",
       "      <td>Animals make everything better. From dogs who ...</td>\n",
       "      <td>[]</td>\n",
       "      <td>None</td>\n",
       "      <td>1 season</td>\n",
       "      <td>Spring 2020</td>\n",
       "      <td>https://quibi.com/shows/all-the-feels-by-the-d...</td>\n",
       "    </tr>\n",
       "    <tr>\n",
       "      <th>3</th>\n",
       "      <td>Answered by Vox</td>\n",
       "      <td>News, Coronavirus</td>\n",
       "      <td>Answered is Vox’s daily explainer series helpi...</td>\n",
       "      <td>[Cleo Abram]</td>\n",
       "      <td>None</td>\n",
       "      <td>1 season</td>\n",
       "      <td>Released</td>\n",
       "      <td>https://quibi.com/shows/answered-by-vox-631</td>\n",
       "    </tr>\n",
       "    <tr>\n",
       "      <th>4</th>\n",
       "      <td>Around The World by BBC NEWS</td>\n",
       "      <td>News, International</td>\n",
       "      <td>Do you ever wonder how something happening tho...</td>\n",
       "      <td>[Ben Bland]</td>\n",
       "      <td>None</td>\n",
       "      <td>1 season</td>\n",
       "      <td>Spring 2020</td>\n",
       "      <td>https://quibi.com/shows/around-the-world-by-bb...</td>\n",
       "    </tr>\n",
       "  </tbody>\n",
       "</table>\n",
       "</div>"
      ],
      "text/plain": [
       "                          title                      genre  \\\n",
       "0           50 States Of Fright  Horror Anthology Thriller   \n",
       "1                  Agua Donkeys     Deadpan, Buddy, Comedy   \n",
       "2     All The Feels by The Dodo      Reality, Cute Animals   \n",
       "3               Answered by Vox          News, Coronavirus   \n",
       "4  Around The World by BBC NEWS        News, International   \n",
       "\n",
       "                                         description  \\\n",
       "0  A horror anthology featuring the scariest stor...   \n",
       "1  What's standing between MP, Jer, and the one t...   \n",
       "2  Animals make everything better. From dogs who ...   \n",
       "3  Answered is Vox’s daily explainer series helpi...   \n",
       "4  Do you ever wonder how something happening tho...   \n",
       "\n",
       "                                           cast_crew rating    season  \\\n",
       "0  [Rachel Brosnahan, Travis Fimmel, John Marshal...  TV-MA  1 season   \n",
       "1  [MP Cunningham, Jer Jackson, Baby Darrington, ...  TV-MA  1 season   \n",
       "2                                                 []   None  1 season   \n",
       "3                                       [Cleo Abram]   None  1 season   \n",
       "4                                        [Ben Bland]   None  1 season   \n",
       "\n",
       "       release                                                url  \n",
       "0     Released    https://quibi.com/shows/50-states-of-fright-417  \n",
       "1     Released           https://quibi.com/shows/agua-donkeys-479  \n",
       "2  Spring 2020  https://quibi.com/shows/all-the-feels-by-the-d...  \n",
       "3     Released        https://quibi.com/shows/answered-by-vox-631  \n",
       "4  Spring 2020  https://quibi.com/shows/around-the-world-by-bb...  "
      ]
     },
     "execution_count": 9,
     "metadata": {},
     "output_type": "execute_result"
    }
   ],
   "source": [
    "show_df.head()"
   ]
  },
  {
   "cell_type": "code",
   "execution_count": 10,
   "metadata": {},
   "outputs": [
    {
     "data": {
      "text/html": [
       "<div>\n",
       "<style scoped>\n",
       "    .dataframe tbody tr th:only-of-type {\n",
       "        vertical-align: middle;\n",
       "    }\n",
       "\n",
       "    .dataframe tbody tr th {\n",
       "        vertical-align: top;\n",
       "    }\n",
       "\n",
       "    .dataframe thead th {\n",
       "        text-align: right;\n",
       "    }\n",
       "</style>\n",
       "<table border=\"1\" class=\"dataframe\">\n",
       "  <thead>\n",
       "    <tr style=\"text-align: right;\">\n",
       "      <th></th>\n",
       "      <th>title</th>\n",
       "      <th>genre</th>\n",
       "      <th>description</th>\n",
       "      <th>cast_crew</th>\n",
       "      <th>rating</th>\n",
       "      <th>season</th>\n",
       "      <th>release</th>\n",
       "      <th>url</th>\n",
       "    </tr>\n",
       "  </thead>\n",
       "  <tbody>\n",
       "    <tr>\n",
       "      <th>52</th>\n",
       "      <td>You Ain't Got These</td>\n",
       "      <td>Documentary, Culture</td>\n",
       "      <td>This is not a show about sneakers. It’s a show...</td>\n",
       "      <td>[Lena Waithe, Carmelo Anthony, Hasan Minhaj, Q...</td>\n",
       "      <td>TV-MA</td>\n",
       "      <td>1 season</td>\n",
       "      <td>Released</td>\n",
       "      <td>https://quibi.com/shows/you-aint-got-these-500</td>\n",
       "    </tr>\n",
       "  </tbody>\n",
       "</table>\n",
       "</div>"
      ],
      "text/plain": [
       "                  title                 genre  \\\n",
       "52  You Ain't Got These  Documentary, Culture   \n",
       "\n",
       "                                          description  \\\n",
       "52  This is not a show about sneakers. It’s a show...   \n",
       "\n",
       "                                            cast_crew rating    season  \\\n",
       "52  [Lena Waithe, Carmelo Anthony, Hasan Minhaj, Q...  TV-MA  1 season   \n",
       "\n",
       "     release                                             url  \n",
       "52  Released  https://quibi.com/shows/you-aint-got-these-500  "
      ]
     },
     "execution_count": 10,
     "metadata": {},
     "output_type": "execute_result"
    }
   ],
   "source": [
    "show_df.tail(1)"
   ]
  },
  {
   "cell_type": "markdown",
   "metadata": {},
   "source": [
    "The DataFrame has 53 rows and 53 unique titles which means it was successful in gathering data from all the URL's."
   ]
  },
  {
   "cell_type": "code",
   "execution_count": 11,
   "metadata": {},
   "outputs": [
    {
     "data": {
      "text/plain": [
       "53"
      ]
     },
     "execution_count": 11,
     "metadata": {},
     "output_type": "execute_result"
    }
   ],
   "source": [
    "len(show_df)"
   ]
  },
  {
   "cell_type": "code",
   "execution_count": 12,
   "metadata": {},
   "outputs": [
    {
     "data": {
      "text/plain": [
       "53"
      ]
     },
     "execution_count": 12,
     "metadata": {},
     "output_type": "execute_result"
    }
   ],
   "source": [
    "show_df['title'].value_counts().sum()"
   ]
  },
  {
   "cell_type": "markdown",
   "metadata": {},
   "source": [
    "Saving the raw data to csv:"
   ]
  },
  {
   "cell_type": "code",
   "execution_count": 13,
   "metadata": {},
   "outputs": [],
   "source": [
    "show_df.to_csv('../datasets/quibi_raw.csv', index=False)"
   ]
  }
 ],
 "metadata": {
  "kernelspec": {
   "display_name": "Python 3",
   "language": "python",
   "name": "python3"
  },
  "language_info": {
   "codemirror_mode": {
    "name": "ipython",
    "version": 3
   },
   "file_extension": ".py",
   "mimetype": "text/x-python",
   "name": "python",
   "nbconvert_exporter": "python",
   "pygments_lexer": "ipython3",
   "version": "3.7.6"
  }
 },
 "nbformat": 4,
 "nbformat_minor": 4
}
