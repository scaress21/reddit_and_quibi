{
 "cells": [
  {
   "cell_type": "markdown",
   "metadata": {},
   "source": [
    "# Reddit & Quibi: Web API and NLP\n",
    "## Part 2: Cleaning"
   ]
  },
  {
   "cell_type": "markdown",
   "metadata": {},
   "source": [
    "In this notebook, I'm going to combine my Reddit data for all 3 subreddits and clean it."
   ]
  },
  {
   "cell_type": "code",
   "execution_count": 1,
   "metadata": {},
   "outputs": [],
   "source": [
    "import pandas as pd\n",
    "import numpy as np\n",
    "import matplotlib.pyplot as plt\n",
    "import regex as re\n",
    "\n",
    "import warnings\n",
    "warnings.filterwarnings('ignore')"
   ]
  },
  {
   "cell_type": "markdown",
   "metadata": {},
   "source": [
    "Reading in the raw data:"
   ]
  },
  {
   "cell_type": "code",
   "execution_count": 2,
   "metadata": {},
   "outputs": [],
   "source": [
    "pod = pd.read_csv('../datasets/podcasts_raw.csv')"
   ]
  },
  {
   "cell_type": "markdown",
   "metadata": {},
   "source": [
    "By looking through the columns and reviewing some of the terms on Pushshift, I'm elimninating the majority of the columns and only looking at those listed below (which include 'title' and 'selftext'). Although the features differ between the subreddits, these columns are in all of the raw csv's."
   ]
  },
  {
   "cell_type": "code",
   "execution_count": 3,
   "metadata": {},
   "outputs": [],
   "source": [
    "sel_col = ['id','author', 'created_utc', 'media_only', 'num_comments', \n",
    "           'over_18', 'title', 'selftext', 'spoiler', 'score', 'url']"
   ]
  },
  {
   "cell_type": "code",
   "execution_count": 4,
   "metadata": {},
   "outputs": [],
   "source": [
    "pod_sel = pod[sel_col]"
   ]
  },
  {
   "cell_type": "code",
   "execution_count": 5,
   "metadata": {},
   "outputs": [
    {
     "data": {
      "text/html": [
       "<div>\n",
       "<style scoped>\n",
       "    .dataframe tbody tr th:only-of-type {\n",
       "        vertical-align: middle;\n",
       "    }\n",
       "\n",
       "    .dataframe tbody tr th {\n",
       "        vertical-align: top;\n",
       "    }\n",
       "\n",
       "    .dataframe thead th {\n",
       "        text-align: right;\n",
       "    }\n",
       "</style>\n",
       "<table border=\"1\" class=\"dataframe\">\n",
       "  <thead>\n",
       "    <tr style=\"text-align: right;\">\n",
       "      <th></th>\n",
       "      <th>index</th>\n",
       "      <th>all_awardings</th>\n",
       "      <th>allow_live_comments</th>\n",
       "      <th>author</th>\n",
       "      <th>author_flair_css_class</th>\n",
       "      <th>author_flair_richtext</th>\n",
       "      <th>author_flair_text</th>\n",
       "      <th>author_flair_type</th>\n",
       "      <th>author_fullname</th>\n",
       "      <th>author_patreon_flair</th>\n",
       "      <th>...</th>\n",
       "      <th>category</th>\n",
       "      <th>content_categories</th>\n",
       "      <th>media_embed</th>\n",
       "      <th>removal_reason</th>\n",
       "      <th>secure_media_embed</th>\n",
       "      <th>suggested_sort</th>\n",
       "      <th>rte_mode</th>\n",
       "      <th>author_id</th>\n",
       "      <th>brand_safe</th>\n",
       "      <th>previous_visits</th>\n",
       "    </tr>\n",
       "  </thead>\n",
       "  <tbody>\n",
       "    <tr>\n",
       "      <th>29998</th>\n",
       "      <td>998</td>\n",
       "      <td>NaN</td>\n",
       "      <td>NaN</td>\n",
       "      <td>lsdinc</td>\n",
       "      <td>NaN</td>\n",
       "      <td>[]</td>\n",
       "      <td>NaN</td>\n",
       "      <td>text</td>\n",
       "      <td>NaN</td>\n",
       "      <td>NaN</td>\n",
       "      <td>...</td>\n",
       "      <td>NaN</td>\n",
       "      <td>NaN</td>\n",
       "      <td>NaN</td>\n",
       "      <td>NaN</td>\n",
       "      <td>NaN</td>\n",
       "      <td>NaN</td>\n",
       "      <td>markdown</td>\n",
       "      <td>NaN</td>\n",
       "      <td>True</td>\n",
       "      <td>NaN</td>\n",
       "    </tr>\n",
       "    <tr>\n",
       "      <th>29999</th>\n",
       "      <td>999</td>\n",
       "      <td>NaN</td>\n",
       "      <td>NaN</td>\n",
       "      <td>redbulluci</td>\n",
       "      <td>NaN</td>\n",
       "      <td>[]</td>\n",
       "      <td>NaN</td>\n",
       "      <td>text</td>\n",
       "      <td>NaN</td>\n",
       "      <td>NaN</td>\n",
       "      <td>...</td>\n",
       "      <td>NaN</td>\n",
       "      <td>NaN</td>\n",
       "      <td>NaN</td>\n",
       "      <td>NaN</td>\n",
       "      <td>NaN</td>\n",
       "      <td>NaN</td>\n",
       "      <td>markdown</td>\n",
       "      <td>NaN</td>\n",
       "      <td>True</td>\n",
       "      <td>NaN</td>\n",
       "    </tr>\n",
       "  </tbody>\n",
       "</table>\n",
       "<p>2 rows × 92 columns</p>\n",
       "</div>"
      ],
      "text/plain": [
       "       index all_awardings allow_live_comments      author  \\\n",
       "29998    998           NaN                 NaN      lsdinc   \n",
       "29999    999           NaN                 NaN  redbulluci   \n",
       "\n",
       "      author_flair_css_class author_flair_richtext author_flair_text  \\\n",
       "29998                    NaN                    []               NaN   \n",
       "29999                    NaN                    []               NaN   \n",
       "\n",
       "      author_flair_type author_fullname author_patreon_flair  ... category  \\\n",
       "29998              text             NaN                  NaN  ...      NaN   \n",
       "29999              text             NaN                  NaN  ...      NaN   \n",
       "\n",
       "      content_categories  media_embed  removal_reason  secure_media_embed  \\\n",
       "29998                NaN          NaN             NaN                 NaN   \n",
       "29999                NaN          NaN             NaN                 NaN   \n",
       "\n",
       "      suggested_sort  rte_mode author_id brand_safe  previous_visits  \n",
       "29998            NaN  markdown       NaN       True              NaN  \n",
       "29999            NaN  markdown       NaN       True              NaN  \n",
       "\n",
       "[2 rows x 92 columns]"
      ]
     },
     "execution_count": 5,
     "metadata": {},
     "output_type": "execute_result"
    }
   ],
   "source": [
    "pod.tail(2)"
   ]
  },
  {
   "cell_type": "code",
   "execution_count": 6,
   "metadata": {},
   "outputs": [],
   "source": [
    "tv = pd.read_csv('../datasets/tv_raw.csv')"
   ]
  },
  {
   "cell_type": "code",
   "execution_count": 7,
   "metadata": {},
   "outputs": [],
   "source": [
    "tv_sel = tv[sel_col]"
   ]
  },
  {
   "cell_type": "code",
   "execution_count": 8,
   "metadata": {},
   "outputs": [
    {
     "data": {
      "text/html": [
       "<div>\n",
       "<style scoped>\n",
       "    .dataframe tbody tr th:only-of-type {\n",
       "        vertical-align: middle;\n",
       "    }\n",
       "\n",
       "    .dataframe tbody tr th {\n",
       "        vertical-align: top;\n",
       "    }\n",
       "\n",
       "    .dataframe thead th {\n",
       "        text-align: right;\n",
       "    }\n",
       "</style>\n",
       "<table border=\"1\" class=\"dataframe\">\n",
       "  <thead>\n",
       "    <tr style=\"text-align: right;\">\n",
       "      <th></th>\n",
       "      <th>index</th>\n",
       "      <th>all_awardings</th>\n",
       "      <th>allow_live_comments</th>\n",
       "      <th>author</th>\n",
       "      <th>author_flair_css_class</th>\n",
       "      <th>author_flair_richtext</th>\n",
       "      <th>author_flair_text</th>\n",
       "      <th>author_flair_type</th>\n",
       "      <th>author_fullname</th>\n",
       "      <th>author_patreon_flair</th>\n",
       "      <th>...</th>\n",
       "      <th>event_end</th>\n",
       "      <th>event_is_live</th>\n",
       "      <th>event_start</th>\n",
       "      <th>author_cakeday</th>\n",
       "      <th>poll_data</th>\n",
       "      <th>steward_reports</th>\n",
       "      <th>removed_by</th>\n",
       "      <th>updated_utc</th>\n",
       "      <th>og_description</th>\n",
       "      <th>og_title</th>\n",
       "    </tr>\n",
       "  </thead>\n",
       "  <tbody>\n",
       "    <tr>\n",
       "      <th>29995</th>\n",
       "      <td>995</td>\n",
       "      <td>[]</td>\n",
       "      <td>False</td>\n",
       "      <td>promo_9movies_io</td>\n",
       "      <td>NaN</td>\n",
       "      <td>[]</td>\n",
       "      <td>NaN</td>\n",
       "      <td>text</td>\n",
       "      <td>t2_2hql6pge</td>\n",
       "      <td>False</td>\n",
       "      <td>...</td>\n",
       "      <td>NaN</td>\n",
       "      <td>NaN</td>\n",
       "      <td>NaN</td>\n",
       "      <td>NaN</td>\n",
       "      <td>NaN</td>\n",
       "      <td>[]</td>\n",
       "      <td>NaN</td>\n",
       "      <td>1.570500e+09</td>\n",
       "      <td>NaN</td>\n",
       "      <td>NaN</td>\n",
       "    </tr>\n",
       "    <tr>\n",
       "      <th>29996</th>\n",
       "      <td>996</td>\n",
       "      <td>[]</td>\n",
       "      <td>False</td>\n",
       "      <td>promo_9movies_io</td>\n",
       "      <td>NaN</td>\n",
       "      <td>[]</td>\n",
       "      <td>NaN</td>\n",
       "      <td>text</td>\n",
       "      <td>t2_2hql6pge</td>\n",
       "      <td>False</td>\n",
       "      <td>...</td>\n",
       "      <td>NaN</td>\n",
       "      <td>NaN</td>\n",
       "      <td>NaN</td>\n",
       "      <td>NaN</td>\n",
       "      <td>NaN</td>\n",
       "      <td>[]</td>\n",
       "      <td>NaN</td>\n",
       "      <td>1.570499e+09</td>\n",
       "      <td>NaN</td>\n",
       "      <td>NaN</td>\n",
       "    </tr>\n",
       "    <tr>\n",
       "      <th>29997</th>\n",
       "      <td>997</td>\n",
       "      <td>[]</td>\n",
       "      <td>False</td>\n",
       "      <td>WhoopsieDaisy75</td>\n",
       "      <td>NaN</td>\n",
       "      <td>[]</td>\n",
       "      <td>NaN</td>\n",
       "      <td>text</td>\n",
       "      <td>t2_3vqw30wi</td>\n",
       "      <td>False</td>\n",
       "      <td>...</td>\n",
       "      <td>NaN</td>\n",
       "      <td>NaN</td>\n",
       "      <td>NaN</td>\n",
       "      <td>NaN</td>\n",
       "      <td>NaN</td>\n",
       "      <td>[]</td>\n",
       "      <td>NaN</td>\n",
       "      <td>1.570499e+09</td>\n",
       "      <td>NaN</td>\n",
       "      <td>NaN</td>\n",
       "    </tr>\n",
       "    <tr>\n",
       "      <th>29998</th>\n",
       "      <td>998</td>\n",
       "      <td>[]</td>\n",
       "      <td>False</td>\n",
       "      <td>promo_9movies_io</td>\n",
       "      <td>NaN</td>\n",
       "      <td>[]</td>\n",
       "      <td>NaN</td>\n",
       "      <td>text</td>\n",
       "      <td>t2_2hql6pge</td>\n",
       "      <td>False</td>\n",
       "      <td>...</td>\n",
       "      <td>NaN</td>\n",
       "      <td>NaN</td>\n",
       "      <td>NaN</td>\n",
       "      <td>NaN</td>\n",
       "      <td>NaN</td>\n",
       "      <td>[]</td>\n",
       "      <td>NaN</td>\n",
       "      <td>1.570499e+09</td>\n",
       "      <td>NaN</td>\n",
       "      <td>NaN</td>\n",
       "    </tr>\n",
       "    <tr>\n",
       "      <th>29999</th>\n",
       "      <td>999</td>\n",
       "      <td>[]</td>\n",
       "      <td>False</td>\n",
       "      <td>cynognathus</td>\n",
       "      <td>Daredevil1</td>\n",
       "      <td>[]</td>\n",
       "      <td>NaN</td>\n",
       "      <td>text</td>\n",
       "      <td>t2_5glxo</td>\n",
       "      <td>False</td>\n",
       "      <td>...</td>\n",
       "      <td>NaN</td>\n",
       "      <td>NaN</td>\n",
       "      <td>NaN</td>\n",
       "      <td>NaN</td>\n",
       "      <td>NaN</td>\n",
       "      <td>[]</td>\n",
       "      <td>NaN</td>\n",
       "      <td>1.570498e+09</td>\n",
       "      <td>NaN</td>\n",
       "      <td>NaN</td>\n",
       "    </tr>\n",
       "  </tbody>\n",
       "</table>\n",
       "<p>5 rows × 88 columns</p>\n",
       "</div>"
      ],
      "text/plain": [
       "       index all_awardings  allow_live_comments            author  \\\n",
       "29995    995            []                False  promo_9movies_io   \n",
       "29996    996            []                False  promo_9movies_io   \n",
       "29997    997            []                False   WhoopsieDaisy75   \n",
       "29998    998            []                False  promo_9movies_io   \n",
       "29999    999            []                False       cynognathus   \n",
       "\n",
       "      author_flair_css_class author_flair_richtext author_flair_text  \\\n",
       "29995                    NaN                    []               NaN   \n",
       "29996                    NaN                    []               NaN   \n",
       "29997                    NaN                    []               NaN   \n",
       "29998                    NaN                    []               NaN   \n",
       "29999             Daredevil1                    []               NaN   \n",
       "\n",
       "      author_flair_type author_fullname  author_patreon_flair  ... event_end  \\\n",
       "29995              text     t2_2hql6pge                 False  ...       NaN   \n",
       "29996              text     t2_2hql6pge                 False  ...       NaN   \n",
       "29997              text     t2_3vqw30wi                 False  ...       NaN   \n",
       "29998              text     t2_2hql6pge                 False  ...       NaN   \n",
       "29999              text        t2_5glxo                 False  ...       NaN   \n",
       "\n",
       "      event_is_live  event_start  author_cakeday  poll_data steward_reports  \\\n",
       "29995           NaN          NaN             NaN        NaN              []   \n",
       "29996           NaN          NaN             NaN        NaN              []   \n",
       "29997           NaN          NaN             NaN        NaN              []   \n",
       "29998           NaN          NaN             NaN        NaN              []   \n",
       "29999           NaN          NaN             NaN        NaN              []   \n",
       "\n",
       "      removed_by   updated_utc og_description og_title  \n",
       "29995        NaN  1.570500e+09            NaN      NaN  \n",
       "29996        NaN  1.570499e+09            NaN      NaN  \n",
       "29997        NaN  1.570499e+09            NaN      NaN  \n",
       "29998        NaN  1.570499e+09            NaN      NaN  \n",
       "29999        NaN  1.570498e+09            NaN      NaN  \n",
       "\n",
       "[5 rows x 88 columns]"
      ]
     },
     "execution_count": 8,
     "metadata": {},
     "output_type": "execute_result"
    }
   ],
   "source": [
    "tv.tail()"
   ]
  },
  {
   "cell_type": "code",
   "execution_count": 9,
   "metadata": {},
   "outputs": [],
   "source": [
    "vid_1 = pd.read_csv('../datasets/video_raw_1.csv')"
   ]
  },
  {
   "cell_type": "code",
   "execution_count": 10,
   "metadata": {},
   "outputs": [],
   "source": [
    "vid_2 = pd.read_csv('../datasets/video_raw_2.csv')"
   ]
  },
  {
   "cell_type": "code",
   "execution_count": 11,
   "metadata": {},
   "outputs": [],
   "source": [
    "vid = pd.concat([vid_1, vid_2], axis=0)"
   ]
  },
  {
   "cell_type": "code",
   "execution_count": 12,
   "metadata": {},
   "outputs": [
    {
     "data": {
      "text/plain": [
       "(30000, 74)"
      ]
     },
     "execution_count": 12,
     "metadata": {},
     "output_type": "execute_result"
    }
   ],
   "source": [
    "vid.shape"
   ]
  },
  {
   "cell_type": "code",
   "execution_count": 13,
   "metadata": {},
   "outputs": [],
   "source": [
    "vid_sel = vid[sel_col]"
   ]
  },
  {
   "cell_type": "markdown",
   "metadata": {},
   "source": [
    "Confirming my DataFrames have the same number of columns before combining them:"
   ]
  },
  {
   "cell_type": "code",
   "execution_count": 14,
   "metadata": {},
   "outputs": [
    {
     "name": "stdout",
     "output_type": "stream",
     "text": [
      "(30000, 11) (30000, 11) (30000, 11)\n"
     ]
    }
   ],
   "source": [
    "print(pod_sel.shape, tv_sel.shape, vid_sel.shape)"
   ]
  },
  {
   "cell_type": "markdown",
   "metadata": {},
   "source": [
    "Adding a column (that will eventually be the target) for what subreddit each post belongs to:"
   ]
  },
  {
   "cell_type": "code",
   "execution_count": 15,
   "metadata": {},
   "outputs": [],
   "source": [
    "pod_sel['subreddit'] = 'podcast'"
   ]
  },
  {
   "cell_type": "code",
   "execution_count": 16,
   "metadata": {},
   "outputs": [],
   "source": [
    "tv_sel['subreddit'] = 'tv'"
   ]
  },
  {
   "cell_type": "code",
   "execution_count": 17,
   "metadata": {},
   "outputs": [],
   "source": [
    "vid_sel['subreddit'] = 'video'"
   ]
  },
  {
   "cell_type": "code",
   "execution_count": 18,
   "metadata": {},
   "outputs": [],
   "source": [
    "reddit = pd.concat([pod_sel, tv_sel, vid_sel], axis = 0)"
   ]
  },
  {
   "cell_type": "code",
   "execution_count": 19,
   "metadata": {},
   "outputs": [
    {
     "data": {
      "text/plain": [
       "(90000, 12)"
      ]
     },
     "execution_count": 19,
     "metadata": {},
     "output_type": "execute_result"
    }
   ],
   "source": [
    "reddit.shape"
   ]
  },
  {
   "cell_type": "code",
   "execution_count": 20,
   "metadata": {},
   "outputs": [],
   "source": [
    "reddit.reset_index(inplace=True)"
   ]
  },
  {
   "cell_type": "code",
   "execution_count": 21,
   "metadata": {},
   "outputs": [],
   "source": [
    "reddit.to_csv('../datasets/reddit_raw.csv', index=False)"
   ]
  },
  {
   "cell_type": "markdown",
   "metadata": {},
   "source": [
    "### Missing Values\n",
    "Now that we have the combined DataFrame, I'll take a look at the missing values and datatypes to see what needs to be cleaned up."
   ]
  },
  {
   "cell_type": "code",
   "execution_count": 22,
   "metadata": {},
   "outputs": [
    {
     "data": {
      "text/plain": [
       "index               0\n",
       "id                  0\n",
       "author              0\n",
       "created_utc         0\n",
       "media_only       1024\n",
       "num_comments        0\n",
       "over_18             0\n",
       "title               0\n",
       "selftext        51785\n",
       "spoiler             0\n",
       "score               0\n",
       "url                 0\n",
       "subreddit           0\n",
       "dtype: int64"
      ]
     },
     "execution_count": 22,
     "metadata": {},
     "output_type": "execute_result"
    }
   ],
   "source": [
    "reddit.isna().sum()"
   ]
  },
  {
   "cell_type": "markdown",
   "metadata": {},
   "source": [
    "Below we'll look at some of the content from columns with lots of missing data. Depending what the content is, we might be able to replace the NaN's with something more useful or we'll have to drop it."
   ]
  },
  {
   "cell_type": "code",
   "execution_count": 23,
   "metadata": {},
   "outputs": [
    {
     "data": {
      "text/plain": [
       "False    88976\n",
       "Name: media_only, dtype: int64"
      ]
     },
     "execution_count": 23,
     "metadata": {},
     "output_type": "execute_result"
    }
   ],
   "source": [
    "reddit['media_only'].value_counts()"
   ]
  },
  {
   "cell_type": "code",
   "execution_count": 24,
   "metadata": {},
   "outputs": [
    {
     "data": {
      "text/plain": [
       "90000"
      ]
     },
     "execution_count": 24,
     "metadata": {},
     "output_type": "execute_result"
    }
   ],
   "source": [
    "reddit['media_only'].value_counts().sum() + reddit['media_only'].isna().sum()"
   ]
  },
  {
   "cell_type": "markdown",
   "metadata": {},
   "source": [
    "For the 'media_only' column, the only value we had that wasn't NaN was False. Since all of the values are either missing or False, this isn't a particularly helpful column so I will drop it."
   ]
  },
  {
   "cell_type": "code",
   "execution_count": 25,
   "metadata": {},
   "outputs": [],
   "source": [
    "reddit.drop(columns='media_only', inplace=True)"
   ]
  },
  {
   "cell_type": "code",
   "execution_count": 26,
   "metadata": {},
   "outputs": [
    {
     "data": {
      "text/plain": [
       "(90000, 12)"
      ]
     },
     "execution_count": 26,
     "metadata": {},
     "output_type": "execute_result"
    }
   ],
   "source": [
    "reddit.shape"
   ]
  },
  {
   "cell_type": "code",
   "execution_count": 27,
   "metadata": {},
   "outputs": [
    {
     "data": {
      "text/plain": [
       "spoiler  subreddit\n",
       "False    podcast      29939\n",
       "         video        29893\n",
       "         tv           29327\n",
       "True     tv             673\n",
       "         video          107\n",
       "         podcast         61\n",
       "Name: subreddit, dtype: int64"
      ]
     },
     "execution_count": 27,
     "metadata": {},
     "output_type": "execute_result"
    }
   ],
   "source": [
    "reddit.groupby('spoiler')['subreddit'].value_counts()"
   ]
  },
  {
   "cell_type": "markdown",
   "metadata": {},
   "source": [
    "It looks like each of each of the subreddits has at least a values for 'spoiler' so it's not limited to one class. After doing some research on Reddit, this is a tag that's added when the post contains spoilers. For that reason, I'm fairly confident that the missing values can be tagged as False."
   ]
  },
  {
   "cell_type": "code",
   "execution_count": 28,
   "metadata": {},
   "outputs": [],
   "source": [
    "reddit['spoiler'].fillna(False, inplace=True)"
   ]
  },
  {
   "cell_type": "code",
   "execution_count": 29,
   "metadata": {},
   "outputs": [
    {
     "data": {
      "text/plain": [
       "spoiler  subreddit\n",
       "False    podcast      29939\n",
       "         video        29893\n",
       "         tv           29327\n",
       "True     tv             673\n",
       "         video          107\n",
       "         podcast         61\n",
       "Name: subreddit, dtype: int64"
      ]
     },
     "execution_count": 29,
     "metadata": {},
     "output_type": "execute_result"
    }
   ],
   "source": [
    "reddit.groupby('spoiler')['subreddit'].value_counts()"
   ]
  },
  {
   "cell_type": "code",
   "execution_count": 30,
   "metadata": {},
   "outputs": [
    {
     "data": {
      "text/plain": [
       "False    89159\n",
       "True       841\n",
       "Name: spoiler, dtype: int64"
      ]
     },
     "execution_count": 30,
     "metadata": {},
     "output_type": "execute_result"
    }
   ],
   "source": [
    "reddit['spoiler'].value_counts()"
   ]
  },
  {
   "cell_type": "code",
   "execution_count": 31,
   "metadata": {},
   "outputs": [
    {
     "data": {
      "text/plain": [
       "0"
      ]
     },
     "execution_count": 31,
     "metadata": {},
     "output_type": "execute_result"
    }
   ],
   "source": [
    "reddit['spoiler'].isna().sum()"
   ]
  },
  {
   "cell_type": "markdown",
   "metadata": {},
   "source": [
    "Selftext is the actual content of the posting so this is one of the most important columns. When it comes to analyzing the text, I'm going to combine the title and the selftext into one column. If there's a title but no selftext, I'll keep the observation because it will all be one document in the end. However, if both fields are empty, that observation will have to be dropped."
   ]
  },
  {
   "cell_type": "code",
   "execution_count": 32,
   "metadata": {},
   "outputs": [
    {
     "data": {
      "text/plain": [
       "False    51785\n",
       "Name: title, dtype: int64"
      ]
     },
     "execution_count": 32,
     "metadata": {},
     "output_type": "execute_result"
    }
   ],
   "source": [
    "reddit[reddit['selftext'].isnull()]['title'].isnull().value_counts()"
   ]
  },
  {
   "cell_type": "markdown",
   "metadata": {},
   "source": [
    "Since all of the rows missing selftext have valid titles and I'm going to combine these later on, it will be ok to keep these as is."
   ]
  },
  {
   "cell_type": "markdown",
   "metadata": {},
   "source": [
    "### Datatypes\n",
    "Next we'll check that the columns have the correct datatypes:"
   ]
  },
  {
   "cell_type": "code",
   "execution_count": 33,
   "metadata": {},
   "outputs": [
    {
     "data": {
      "text/plain": [
       "index            int64\n",
       "id              object\n",
       "author          object\n",
       "created_utc      int64\n",
       "num_comments     int64\n",
       "over_18           bool\n",
       "title           object\n",
       "selftext        object\n",
       "spoiler           bool\n",
       "score            int64\n",
       "url             object\n",
       "subreddit       object\n",
       "dtype: object"
      ]
     },
     "execution_count": 33,
     "metadata": {},
     "output_type": "execute_result"
    }
   ],
   "source": [
    "reddit.dtypes"
   ]
  },
  {
   "cell_type": "markdown",
   "metadata": {},
   "source": [
    "I've also noticed that the selftext often has the character '\\n' that would denote a line break. However, this is arbitrary formatting not added by the user and can cloud the actual words so I'm going to remove this. "
   ]
  },
  {
   "cell_type": "code",
   "execution_count": 34,
   "metadata": {},
   "outputs": [],
   "source": [
    "reddit['selftext'] = reddit['selftext'].fillna('')"
   ]
  },
  {
   "cell_type": "code",
   "execution_count": 35,
   "metadata": {},
   "outputs": [],
   "source": [
    "reddit['selftext'] = reddit['selftext'].apply(lambda x: re.sub('\\\\n', ' ', x))"
   ]
  },
  {
   "cell_type": "code",
   "execution_count": 36,
   "metadata": {},
   "outputs": [
    {
     "data": {
      "text/plain": [
       "'I have listened to podcasts before, but usually when the creators upload it in video to YouTube. But I’d like to try podcasts out so I can listen while doing other things.  But then I open up an app and see podcasts with just so many episodes (?).  How do you know where to start? Is there a better searching function than Apple podcasts/Spotify.  I mainly want to listen to learn stuff so I can learn things, or quite meaningful stuff about health and well-being etc.  Thanks in advance'"
      ]
     },
     "execution_count": 36,
     "metadata": {},
     "output_type": "execute_result"
    }
   ],
   "source": [
    "reddit.loc[0, 'selftext']"
   ]
  },
  {
   "cell_type": "markdown",
   "metadata": {},
   "source": [
    "### Final cleaned dataset\n",
    "Finally, I'll combine the title and selftext into one column, change the spoiler column to 1's and 0's, then export the cleaned data:"
   ]
  },
  {
   "cell_type": "code",
   "execution_count": 37,
   "metadata": {},
   "outputs": [],
   "source": [
    "reddit['selftext'] = reddit['selftext'].replace('[removed]', '')"
   ]
  },
  {
   "cell_type": "code",
   "execution_count": 38,
   "metadata": {},
   "outputs": [],
   "source": [
    "reddit['text'] = reddit['title'] + ' ' + reddit['selftext']"
   ]
  },
  {
   "cell_type": "code",
   "execution_count": 39,
   "metadata": {},
   "outputs": [],
   "source": [
    "reddit['spoiler'] = reddit['spoiler'].astype(int)"
   ]
  },
  {
   "cell_type": "code",
   "execution_count": 40,
   "metadata": {},
   "outputs": [
    {
     "data": {
      "text/plain": [
       "0    89159\n",
       "1      841\n",
       "Name: spoiler, dtype: int64"
      ]
     },
     "execution_count": 40,
     "metadata": {},
     "output_type": "execute_result"
    }
   ],
   "source": [
    "reddit['spoiler'].value_counts()"
   ]
  },
  {
   "cell_type": "code",
   "execution_count": 41,
   "metadata": {},
   "outputs": [
    {
     "data": {
      "text/html": [
       "<div>\n",
       "<style scoped>\n",
       "    .dataframe tbody tr th:only-of-type {\n",
       "        vertical-align: middle;\n",
       "    }\n",
       "\n",
       "    .dataframe tbody tr th {\n",
       "        vertical-align: top;\n",
       "    }\n",
       "\n",
       "    .dataframe thead th {\n",
       "        text-align: right;\n",
       "    }\n",
       "</style>\n",
       "<table border=\"1\" class=\"dataframe\">\n",
       "  <thead>\n",
       "    <tr style=\"text-align: right;\">\n",
       "      <th></th>\n",
       "      <th>index</th>\n",
       "      <th>id</th>\n",
       "      <th>author</th>\n",
       "      <th>created_utc</th>\n",
       "      <th>num_comments</th>\n",
       "      <th>over_18</th>\n",
       "      <th>title</th>\n",
       "      <th>selftext</th>\n",
       "      <th>spoiler</th>\n",
       "      <th>score</th>\n",
       "      <th>url</th>\n",
       "      <th>subreddit</th>\n",
       "      <th>text</th>\n",
       "    </tr>\n",
       "  </thead>\n",
       "  <tbody>\n",
       "    <tr>\n",
       "      <th>0</th>\n",
       "      <td>0</td>\n",
       "      <td>g42yoq</td>\n",
       "      <td>cvbk12</td>\n",
       "      <td>1587277835</td>\n",
       "      <td>4</td>\n",
       "      <td>False</td>\n",
       "      <td>New to podcasts, where do I start?</td>\n",
       "      <td>I have listened to podcasts before, but usuall...</td>\n",
       "      <td>0</td>\n",
       "      <td>1</td>\n",
       "      <td>https://www.reddit.com/r/podcasts/comments/g42...</td>\n",
       "      <td>podcast</td>\n",
       "      <td>New to podcasts, where do I start? I have list...</td>\n",
       "    </tr>\n",
       "    <tr>\n",
       "      <th>1</th>\n",
       "      <td>1</td>\n",
       "      <td>g42k0l</td>\n",
       "      <td>HydraDominatus1</td>\n",
       "      <td>1587275625</td>\n",
       "      <td>34</td>\n",
       "      <td>False</td>\n",
       "      <td>Looking for a podcast on capitalism</td>\n",
       "      <td>Not freakanomics  I'm looking for something mo...</td>\n",
       "      <td>0</td>\n",
       "      <td>1</td>\n",
       "      <td>https://www.reddit.com/r/podcasts/comments/g42...</td>\n",
       "      <td>podcast</td>\n",
       "      <td>Looking for a podcast on capitalism Not freaka...</td>\n",
       "    </tr>\n",
       "    <tr>\n",
       "      <th>2</th>\n",
       "      <td>2</td>\n",
       "      <td>g42fea</td>\n",
       "      <td>bloodybeaverpod</td>\n",
       "      <td>1587274936</td>\n",
       "      <td>2</td>\n",
       "      <td>False</td>\n",
       "      <td>How would I go about making a private podcast?</td>\n",
       "      <td>So I already have a podcast, hosted on Lisbyn....</td>\n",
       "      <td>0</td>\n",
       "      <td>1</td>\n",
       "      <td>https://www.reddit.com/r/podcasts/comments/g42...</td>\n",
       "      <td>podcast</td>\n",
       "      <td>How would I go about making a private podcast?...</td>\n",
       "    </tr>\n",
       "    <tr>\n",
       "      <th>3</th>\n",
       "      <td>3</td>\n",
       "      <td>g429uo</td>\n",
       "      <td>Butters2530</td>\n",
       "      <td>1587274138</td>\n",
       "      <td>2</td>\n",
       "      <td>False</td>\n",
       "      <td>The Official Podcast</td>\n",
       "      <td></td>\n",
       "      <td>0</td>\n",
       "      <td>1</td>\n",
       "      <td>https://www.reddit.com/r/podcasts/comments/g42...</td>\n",
       "      <td>podcast</td>\n",
       "      <td>The Official Podcast</td>\n",
       "    </tr>\n",
       "    <tr>\n",
       "      <th>4</th>\n",
       "      <td>4</td>\n",
       "      <td>g417x7</td>\n",
       "      <td>unicorncumdump</td>\n",
       "      <td>1587269041</td>\n",
       "      <td>0</td>\n",
       "      <td>False</td>\n",
       "      <td>Any Healthcare providers out there?</td>\n",
       "      <td>I just started a podcast and I've got varying ...</td>\n",
       "      <td>0</td>\n",
       "      <td>1</td>\n",
       "      <td>https://www.reddit.com/r/podcasts/comments/g41...</td>\n",
       "      <td>podcast</td>\n",
       "      <td>Any Healthcare providers out there? I just sta...</td>\n",
       "    </tr>\n",
       "  </tbody>\n",
       "</table>\n",
       "</div>"
      ],
      "text/plain": [
       "   index      id           author  created_utc  num_comments  over_18  \\\n",
       "0      0  g42yoq           cvbk12   1587277835             4    False   \n",
       "1      1  g42k0l  HydraDominatus1   1587275625            34    False   \n",
       "2      2  g42fea  bloodybeaverpod   1587274936             2    False   \n",
       "3      3  g429uo      Butters2530   1587274138             2    False   \n",
       "4      4  g417x7   unicorncumdump   1587269041             0    False   \n",
       "\n",
       "                                            title  \\\n",
       "0              New to podcasts, where do I start?   \n",
       "1             Looking for a podcast on capitalism   \n",
       "2  How would I go about making a private podcast?   \n",
       "3                            The Official Podcast   \n",
       "4             Any Healthcare providers out there?   \n",
       "\n",
       "                                            selftext  spoiler  score  \\\n",
       "0  I have listened to podcasts before, but usuall...        0      1   \n",
       "1  Not freakanomics  I'm looking for something mo...        0      1   \n",
       "2  So I already have a podcast, hosted on Lisbyn....        0      1   \n",
       "3                                                           0      1   \n",
       "4  I just started a podcast and I've got varying ...        0      1   \n",
       "\n",
       "                                                 url subreddit  \\\n",
       "0  https://www.reddit.com/r/podcasts/comments/g42...   podcast   \n",
       "1  https://www.reddit.com/r/podcasts/comments/g42...   podcast   \n",
       "2  https://www.reddit.com/r/podcasts/comments/g42...   podcast   \n",
       "3  https://www.reddit.com/r/podcasts/comments/g42...   podcast   \n",
       "4  https://www.reddit.com/r/podcasts/comments/g41...   podcast   \n",
       "\n",
       "                                                text  \n",
       "0  New to podcasts, where do I start? I have list...  \n",
       "1  Looking for a podcast on capitalism Not freaka...  \n",
       "2  How would I go about making a private podcast?...  \n",
       "3                              The Official Podcast   \n",
       "4  Any Healthcare providers out there? I just sta...  "
      ]
     },
     "execution_count": 41,
     "metadata": {},
     "output_type": "execute_result"
    }
   ],
   "source": [
    "reddit.head()"
   ]
  },
  {
   "cell_type": "code",
   "execution_count": 42,
   "metadata": {},
   "outputs": [],
   "source": [
    "reddit_clean = reddit"
   ]
  },
  {
   "cell_type": "code",
   "execution_count": 43,
   "metadata": {},
   "outputs": [
    {
     "data": {
      "text/plain": [
       "index           0\n",
       "id              0\n",
       "author          0\n",
       "created_utc     0\n",
       "num_comments    0\n",
       "over_18         0\n",
       "title           0\n",
       "selftext        0\n",
       "spoiler         0\n",
       "score           0\n",
       "url             0\n",
       "subreddit       0\n",
       "text            0\n",
       "dtype: int64"
      ]
     },
     "execution_count": 43,
     "metadata": {},
     "output_type": "execute_result"
    }
   ],
   "source": [
    "reddit_clean.isna().sum()"
   ]
  },
  {
   "cell_type": "code",
   "execution_count": 44,
   "metadata": {},
   "outputs": [
    {
     "data": {
      "text/plain": [
       "index            int64\n",
       "id              object\n",
       "author          object\n",
       "created_utc      int64\n",
       "num_comments     int64\n",
       "over_18           bool\n",
       "title           object\n",
       "selftext        object\n",
       "spoiler          int64\n",
       "score            int64\n",
       "url             object\n",
       "subreddit       object\n",
       "text            object\n",
       "dtype: object"
      ]
     },
     "execution_count": 44,
     "metadata": {},
     "output_type": "execute_result"
    }
   ],
   "source": [
    "reddit_clean.dtypes"
   ]
  },
  {
   "cell_type": "code",
   "execution_count": 45,
   "metadata": {},
   "outputs": [
    {
     "data": {
      "text/plain": [
       "(90000, 13)"
      ]
     },
     "execution_count": 45,
     "metadata": {},
     "output_type": "execute_result"
    }
   ],
   "source": [
    "reddit_clean.shape"
   ]
  },
  {
   "cell_type": "markdown",
   "metadata": {},
   "source": [
    "This file is pretty large so I'm going to pickle it instead."
   ]
  },
  {
   "cell_type": "code",
   "execution_count": 46,
   "metadata": {},
   "outputs": [],
   "source": [
    "# SAVE PICKLE\n",
    "import pickle\n",
    "pickle.dump(reddit_clean, open('../datasets/reddit_clean.pkl', 'wb'))\n"
   ]
  }
 ],
 "metadata": {
  "kernelspec": {
   "display_name": "Python 3",
   "language": "python",
   "name": "python3"
  },
  "language_info": {
   "codemirror_mode": {
    "name": "ipython",
    "version": 3
   },
   "file_extension": ".py",
   "mimetype": "text/x-python",
   "name": "python",
   "nbconvert_exporter": "python",
   "pygments_lexer": "ipython3",
   "version": "3.7.6"
  }
 },
 "nbformat": 4,
 "nbformat_minor": 4
}
